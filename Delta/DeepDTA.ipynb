{
 "cells": [
  {
   "cell_type": "markdown",
   "metadata": {},
   "source": [
    "# DeepDTA notebook"
   ]
  },
  {
   "cell_type": "code",
   "execution_count": 11,
   "metadata": {
    "scrolled": true
   },
   "outputs": [
    {
     "name": "stderr",
     "output_type": "stream",
     "text": [
      "Found local copy...\n",
      "Loading...\n",
      "Done!\n",
      "To log space...\n",
      "Found local copy...\n",
      "Loading...\n",
      "Done!\n",
      "To log space...\n",
      "Found local copy...\n",
      "Loading...\n",
      "Done!\n",
      "To log space...\n"
     ]
    }
   ],
   "source": [
    "# import modules\n",
    "import numpy as np\n",
    "import matplotlib.pyplot as plt\n",
    "import torch\n",
    "from tdc.multi_pred import DTI\n",
    "from torch.utils.data import Dataset, DataLoader\n",
    "\n",
    "# load in the three datasets\n",
    "data_Kd = DTI(name = 'BindingDB_Kd')\n",
    "data_Kd.convert_to_log(form = 'binding')\n",
    "\n",
    "data_ic50 = DTI(name = 'BindingDB_IC50')\n",
    "data_ic50.convert_to_log(form = 'binding')\n",
    "\n",
    "data_Ki = DTI(name = 'BindingDB_Ki')\n",
    "data_Ki.convert_to_log(form = 'binding')"
   ]
  },
  {
   "cell_type": "markdown",
   "metadata": {},
   "source": [
    "## ALS model\n",
    "Model used is adapted from https://medium.com/@rinabuoy13/explicit-recommender-system-matrix-factorization-in-pytorch-f3779bb55d74"
   ]
  },
  {
   "cell_type": "code",
   "execution_count": 13,
   "metadata": {},
   "outputs": [],
   "source": [
    "def data_split(data):\n",
    "    # split data and get ID dicts\n",
    "    split = data.get_split(method = 'random', seed = 42, frac = [0.6, 0.05, 0.35])\n",
    "    train = split['train']\n",
    "    test = split['test']\n",
    "\n",
    "    train = train[['Drug_ID', 'Target', 'Y']].dropna()\n",
    "\n",
    "    ID_to_Drug = dict(enumerate(list(dict.fromkeys(train['Drug_ID']))))\n",
    "    ID_to_Target = dict(enumerate(list(dict.fromkeys(train['Target']))))\n",
    "\n",
    "    Drug_to_ID = dict((v,k) for k,v in ID_to_Drug.items())\n",
    "    Target_to_ID = dict((v,k) for k,v in ID_to_Target.items())\n",
    "    return train, test, Drug_to_ID, Target_to_ID\n",
    "\n",
    "def data_loader(data, drug_dict, target_dict):\n",
    "    # load data into correct format\n",
    "    data[\"Target_ID2\"] = data[\"Target\"].apply(lambda x:target_dict.get(x))\n",
    "    data[\"Drug_ID2\"] = data[\"Drug_ID\"].apply(lambda x:drug_dict.get(x))\n",
    "    data = data.dropna()\n",
    "\n",
    "    drug_ID = data[\"Drug_ID2\"].to_numpy()\n",
    "    target_ID = data[\"Target_ID2\"].to_numpy()\n",
    "    features = np.vstack((drug_ID, target_ID)).T\n",
    "    label = data['Y'].to_numpy()\n",
    "    return features, label\n",
    "\n",
    "\n",
    "class RatingDataset(Dataset):\n",
    "    def __init__(self, train, label):\n",
    "        self.feature_= train\n",
    "        self.label_= label\n",
    "    def __len__(self):\n",
    "    #return size of dataset\n",
    "        return len(self.feature_)\n",
    "    def __getitem__(self, idx):\n",
    "        return  torch.tensor(self.feature_[idx], dtype=torch.long),torch.tensor(self.label_[idx], dtype=torch.float)"
   ]
  },
  {
   "cell_type": "code",
   "execution_count": 14,
   "metadata": {},
   "outputs": [],
   "source": [
    "class MatrixFactorization(torch.nn.Module):\n",
    "    \n",
    "    def __init__(self, n_users, n_items, n_factors):\n",
    "        super().__init__()\n",
    "        self.user_factors = torch.nn.Embedding(n_users, n_factors)\n",
    "        self.item_factors = torch.nn.Embedding(n_items, n_factors)\n",
    "        self.user_biases = torch.nn.Embedding(n_users, 1)\n",
    "        self.item_biases = torch.nn.Embedding(n_items,1)\n",
    "        torch.nn.init.xavier_uniform_(self.user_factors.weight)\n",
    "        torch.nn.init.xavier_uniform_(self.item_factors.weight)\n",
    "        self.user_biases.weight.data.fill_(0.)\n",
    "        self.item_biases.weight.data.fill_(0.)\n",
    "        \n",
    "    def forward(self, user, item):\n",
    "        pred = self.user_biases(user) + self.item_biases(item)\n",
    "        pred += (self.user_factors(user) * self.item_factors(item)).sum(1, keepdim=True)\n",
    "        return pred.squeeze()"
   ]
  },
  {
   "cell_type": "code",
   "execution_count": 15,
   "metadata": {},
   "outputs": [],
   "source": [
    "def train_model(train_loader, test_loader, model, num_epochs=10):\n",
    "    dev = torch.device(\"cuda\") if torch.cuda.is_available() else torch.device(\"cpu\")\n",
    "    loss_func = torch.nn.MSELoss()\n",
    "    model.to(dev)\n",
    "    \n",
    "    train_losses = []\n",
    "    test_losses = []\n",
    "    for epoch in range(0,num_epochs):\n",
    "        count = 0\n",
    "        cum_loss = 0.\n",
    "        for i, (train_batch, label_batch) in enumerate(train_loader):\n",
    "            count = 1 + i\n",
    "            # Predict and calculate loss for user factor and bias\n",
    "            optimizer = torch.optim.SGD([model.user_biases.weight,model.user_factors.weight], lr=0.01, weight_decay=1e-5) # learning rate\n",
    "            prediction = model(train_batch[:,0].to(dev), train_batch[:,1].to(dev))\n",
    "            loss = loss_func(prediction, label_batch.to(dev)).float()    \n",
    "            # Backpropagate\n",
    "            loss.backward()\n",
    "\n",
    "            # Update the parameters\n",
    "            optimizer.step()\n",
    "            optimizer.zero_grad()\n",
    "\n",
    "            #predict and calculate loss for item factor and bias\n",
    "            optimizer = torch.optim.SGD([model.item_biases.weight,model.item_factors.weight], lr=0.01, weight_decay=1e-5) # learning rate\n",
    "            prediction = model(train_batch[:,0].to(dev), train_batch[:,1].to(dev))\n",
    "            loss = loss_func(prediction, label_batch.to(dev))\n",
    "            loss_item = loss.item()\n",
    "            if loss_item > 0:\n",
    "                cum_loss += loss_item\n",
    "            else:\n",
    "                count -= 1\n",
    "\n",
    "            # Backpropagate\n",
    "            loss.backward()\n",
    "\n",
    "            # Update the parameters\n",
    "            optimizer.step()\n",
    "            optimizer.zero_grad()\n",
    "        train_loss = cum_loss/count\n",
    "        train_losses.append(train_loss)\n",
    "\n",
    "        cum_loss =0.\n",
    "        count = 0\n",
    "        for i, (test_batch, label_batch) in enumerate(test_loader):\n",
    "            count = 1 + i\n",
    "            with torch.no_grad():\n",
    "                prediction = model(test_batch[:,0].to(dev), test_batch[:,1].to(dev))\n",
    "                loss = loss_func(prediction, label_batch.to(dev))\n",
    "                loss_item = loss.item()\n",
    "                if loss_item > 0:\n",
    "                    cum_loss += loss_item\n",
    "                else:\n",
    "                    count -= 1\n",
    "                \n",
    "        test_loss = cum_loss/count\n",
    "        test_losses.append(test_loss)\n",
    "        if epoch % 2 == 0:\n",
    "            print('epoch: ', epoch ,' avg training loss: ', train_loss, ' avg test loss: ',test_loss)\n",
    "    return train_losses, test_losses"
   ]
  },
  {
   "cell_type": "code",
   "execution_count": 16,
   "metadata": {},
   "outputs": [],
   "source": [
    "def model(data, img_name, n_factors=100, bs=100, num_epochs=100):\n",
    "    train, test, drug_dict, target_dict = data_split(data)\n",
    "    x_train, y_train = data_loader(train, drug_dict, target_dict)\n",
    "    x_test, y_test = data_loader(test, drug_dict, target_dict)\n",
    "\n",
    "    train_dataloader = DataLoader(RatingDataset(x_train, y_train), batch_size=bs, shuffle=True)\n",
    "    test_dataloader = DataLoader(RatingDataset(x_test, y_test), batch_size=bs)\n",
    "\n",
    "    model = MatrixFactorization(len(drug_dict), len(target_dict), n_factors=n_factors)\n",
    "\n",
    "    train_losses, test_losses = train_model(train_dataloader, test_dataloader, model, num_epochs)\n",
    "    \n",
    "    epochs = range(1, num_epochs+1)\n",
    "    plt.plot(epochs, train_losses, label='train')\n",
    "    plt.plot(epochs, test_losses, label='test')\n",
    "    plt.xlabel('epoch')\n",
    "    plt.ylabel('mse loss')\n",
    "    plt.legend()\n",
    "    plt.title(img_name)\n",
    "    plt.savefig(img_name)\n",
    "    plt.show()"
   ]
  },
  {
   "cell_type": "markdown",
   "metadata": {},
   "source": [
    "## Kd Dataset"
   ]
  },
  {
   "cell_type": "code",
   "execution_count": 17,
   "metadata": {},
   "outputs": [
    {
     "name": "stdout",
     "output_type": "stream",
     "text": [
      "epoch:  0  avg training loss:  33.27774022339256  avg test loss:  28.065681961604525\n",
      "epoch:  2  avg training loss:  24.087286159491082  avg test loss:  19.09312266622271\n",
      "epoch:  4  avg training loss:  18.665764750948377  avg test loss:  13.926041534968785\n",
      "epoch:  6  avg training loss:  15.314604795662461  avg test loss:  10.83344383239746\n",
      "epoch:  8  avg training loss:  13.144514278241783  avg test loss:  8.905768976892745\n",
      "epoch:  10  avg training loss:  11.67364646978439  avg test loss:  7.651236115183149\n",
      "epoch:  12  avg training loss:  10.62625115388518  avg test loss:  6.797326309340341\n",
      "epoch:  14  avg training loss:  9.844454844286487  avg test loss:  6.1893437606947765\n",
      "epoch:  16  avg training loss:  9.236650750895215  avg test loss:  5.737127176352909\n",
      "epoch:  18  avg training loss:  8.741746126466497  avg test loss:  5.386915653092521\n"
     ]
    },
    {
     "data": {
      "image/png": "[encoded data removed]",
      "text/plain": [
       "<Figure size 432x288 with 1 Axes>"
      ]
     },
     "metadata": {
      "needs_background": "light"
     },
     "output_type": "display_data"
    }
   ],
   "source": [
    "model(data_Kd, 'Kd', bs=100, num_epochs=20)"
   ]
  },
  {
   "cell_type": "markdown",
   "metadata": {},
   "source": [
    "## IC50 Dataset"
   ]
  },
  {
   "cell_type": "code",
   "execution_count": 18,
   "metadata": {},
   "outputs": [
    {
     "name": "stdout",
     "output_type": "stream",
     "text": [
      "epoch:  0  avg training loss:  29.89718375948496  avg test loss:  20.636326713257958\n",
      "epoch:  2  avg training loss:  13.962194211820245  avg test loss:  11.362413339421911\n",
      "epoch:  4  avg training loss:  9.746809090594724  avg test loss:  8.264285570562143\n",
      "epoch:  6  avg training loss:  7.708646250694185  avg test loss:  6.69133601299756\n",
      "epoch:  8  avg training loss:  6.489033799844315  avg test loss:  5.73103409760719\n",
      "epoch:  10  avg training loss:  5.670783129182124  avg test loss:  5.07976117710041\n",
      "epoch:  12  avg training loss:  5.08069763460514  avg test loss:  4.607583511686998\n",
      "epoch:  14  avg training loss:  4.634119644313215  avg test loss:  4.248142947893359\n",
      "epoch:  16  avg training loss:  4.283129375947313  avg test loss:  3.9650906180399903\n",
      "epoch:  18  avg training loss:  3.9999791598315957  avg test loss:  3.736048848405343\n"
     ]
    },
    {
     "data": {
      "image/png": "[encoded data removed]",
      "text/plain": [
       "<Figure size 432x288 with 1 Axes>"
      ]
     },
     "metadata": {
      "needs_background": "light"
     },
     "output_type": "display_data"
    }
   ],
   "source": [
    "model(data_ic50, 'ic50', n_factors=20, bs=100, num_epochs=20)"
   ]
  },
  {
   "cell_type": "markdown",
   "metadata": {},
   "source": [
    "## Ki Dataset"
   ]
  },
  {
   "cell_type": "code",
   "execution_count": 19,
   "metadata": {},
   "outputs": [
    {
     "name": "stdout",
     "output_type": "stream",
     "text": [
      "epoch:  0  avg training loss:  35.98107032451151  avg test loss:  24.99730666887131\n",
      "epoch:  2  avg training loss:  18.139925914853276  avg test loss:  14.391949924629015\n",
      "epoch:  4  avg training loss:  13.121403661893687  avg test loss:  10.726328251003736\n",
      "epoch:  6  avg training loss:  10.587655160589458  avg test loss:  8.797595986171407\n",
      "epoch:  8  avg training loss:  9.025853564662318  avg test loss:  7.593563199849832\n",
      "epoch:  10  avg training loss:  7.954668867331679  avg test loss:  6.763551091954254\n",
      "epoch:  12  avg training loss:  7.1683765557931745  avg test loss:  6.1522944880112584\n",
      "epoch:  14  avg training loss:  6.561893999256114  avg test loss:  5.68035704421739\n",
      "epoch:  16  avg training loss:  6.078872034733441  avg test loss:  5.303327654953416\n",
      "epoch:  18  avg training loss:  5.682743288282852  avg test loss:  4.993720839568823\n"
     ]
    },
    {
     "data": {
      "image/png": "[encoded data removed]",
      "text/plain": [
       "<Figure size 432x288 with 1 Axes>"
      ]
     },
     "metadata": {
      "needs_background": "light"
     },
     "output_type": "display_data"
    }
   ],
   "source": [
    "model(data_Ki, 'Ki', bs=100, num_epochs=20)"
   ]
  }
 ],
 "metadata": {
  "kernelspec": {
   "display_name": "Python 3",
   "language": "python",
   "name": "python3"
  },
  "language_info": {
   "codemirror_mode": {
    "name": "ipython",
    "version": 3
   },
   "file_extension": ".py",
   "mimetype": "text/x-python",
   "name": "python",
   "nbconvert_exporter": "python",
   "pygments_lexer": "ipython3",
   "version": "3.8.5"
  }
 },
 "nbformat": 4,
 "nbformat_minor": 4
}
