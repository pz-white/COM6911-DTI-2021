{
 "cells": [
  {
   "cell_type": "markdown",
   "metadata": {},
   "source": [
    "# DeepDTA notebook"
   ]
  },
  {
   "cell_type": "code",
   "execution_count": 1,
   "metadata": {
    "scrolled": true
   },
   "outputs": [
    {
     "name": "stderr",
     "output_type": "stream",
     "text": [
      "Downloading...\n",
      "100%|████████████████████████████████████████████████████████████████████████████| 54.4M/54.4M [00:04<00:00, 12.9MiB/s]\n",
      "Loading...\n",
      "Done!\n",
      "To log space...\n",
      "Downloading...\n",
      "100%|██████████████████████████████████████████████████████████████████████████████| 839M/839M [01:01<00:00, 13.7MiB/s]\n",
      "Loading...\n",
      "Done!\n",
      "To log space...\n",
      "Downloading...\n",
      "100%|██████████████████████████████████████████████████████████████████████████████| 236M/236M [00:15<00:00, 15.7MiB/s]\n",
      "Loading...\n",
      "Done!\n",
      "To log space...\n"
     ]
    }
   ],
   "source": [
    "# import modules\n",
    "import numpy as np\n",
    "import matplotlib.pyplot as plt\n",
    "import torch\n",
    "from tdc.multi_pred import DTI\n",
    "from torch.utils.data import Dataset, DataLoader\n",
    "\n",
    "# load in the three datasets\n",
    "data_Kd = DTI(name = 'BindingDB_Kd')\n",
    "data_Kd.convert_to_log(form = 'binding')\n",
    "\n",
    "data_ic50 = DTI(name = 'BindingDB_IC50')\n",
    "data_ic50.convert_to_log(form = 'binding')\n",
    "\n",
    "data_Ki = DTI(name = 'BindingDB_Ki')\n",
    "data_Ki.convert_to_log(form = 'binding')"
   ]
  },
  {
   "cell_type": "markdown",
   "metadata": {},
   "source": [
    "## ALS model\n",
    "Model used is adapted from https://medium.com/@rinabuoy13/explicit-recommender-system-matrix-factorization-in-pytorch-f3779bb55d74"
   ]
  },
  {
   "cell_type": "code",
   "execution_count": 2,
   "metadata": {},
   "outputs": [],
   "source": [
    "def data_split(data):\n",
    "    # split data and get ID dicts\n",
    "    split = data.get_split(method = 'random', seed = 42, frac = [0.6, 0.05, 0.35])\n",
    "    train = split['train']\n",
    "    test = split['test']\n",
    "\n",
    "    train = train[['Drug_ID', 'Target', 'Y']].dropna()\n",
    "\n",
    "    ID_to_Drug = dict(enumerate(list(dict.fromkeys(train['Drug_ID']))))\n",
    "    ID_to_Target = dict(enumerate(list(dict.fromkeys(train['Target']))))\n",
    "\n",
    "    Drug_to_ID = dict((v,k) for k,v in ID_to_Drug.items())\n",
    "    Target_to_ID = dict((v,k) for k,v in ID_to_Target.items())\n",
    "    return train, test, Drug_to_ID, Target_to_ID\n",
    "\n",
    "def data_loader(data, drug_dict, target_dict):\n",
    "    # load data into correct format\n",
    "    data[\"Target_ID2\"] = data[\"Target\"].apply(lambda x:target_dict.get(x))\n",
    "    data[\"Drug_ID2\"] = data[\"Drug_ID\"].apply(lambda x:drug_dict.get(x))\n",
    "    data = data.dropna()\n",
    "\n",
    "    drug_ID = data[\"Drug_ID2\"].to_numpy()\n",
    "    target_ID = data[\"Target_ID2\"].to_numpy()\n",
    "    features = np.vstack((drug_ID, target_ID)).T\n",
    "    label = data['Y'].to_numpy()\n",
    "    return features, label\n",
    "\n",
    "\n",
    "class RatingDataset(Dataset):\n",
    "    def __init__(self, train, label):\n",
    "        self.feature_= train\n",
    "        self.label_= label\n",
    "    def __len__(self):\n",
    "    #return size of dataset\n",
    "        return len(self.feature_)\n",
    "    def __getitem__(self, idx):\n",
    "        return  torch.tensor(self.feature_[idx], dtype=torch.long),torch.tensor(self.label_[idx], dtype=torch.float)"
   ]
  },
  {
   "cell_type": "code",
   "execution_count": 3,
   "metadata": {},
   "outputs": [],
   "source": [
    "class MatrixFactorization(torch.nn.Module):\n",
    "    \n",
    "    def __init__(self, n_users, n_items, n_factors):\n",
    "        super().__init__()\n",
    "        self.user_factors = torch.nn.Embedding(n_users, n_factors)\n",
    "        self.item_factors = torch.nn.Embedding(n_items, n_factors)\n",
    "        self.user_biases = torch.nn.Embedding(n_users, 1)\n",
    "        self.item_biases = torch.nn.Embedding(n_items,1)\n",
    "        torch.nn.init.xavier_uniform_(self.user_factors.weight)\n",
    "        torch.nn.init.xavier_uniform_(self.item_factors.weight)\n",
    "        self.user_biases.weight.data.fill_(0.)\n",
    "        self.item_biases.weight.data.fill_(0.)\n",
    "        \n",
    "    def forward(self, user, item):\n",
    "        pred = self.user_biases(user) + self.item_biases(item)\n",
    "        pred += (self.user_factors(user) * self.item_factors(item)).sum(1, keepdim=True)\n",
    "        return pred.squeeze()"
   ]
  },
  {
   "cell_type": "code",
   "execution_count": 4,
   "metadata": {},
   "outputs": [],
   "source": [
    "def train_model(train_loader, test_loader, model, num_epochs=10):\n",
    "    dev = torch.device(\"cuda\") if torch.cuda.is_available() else torch.device(\"cpu\")\n",
    "    loss_func = torch.nn.MSELoss()\n",
    "    model.to(dev)\n",
    "    \n",
    "    train_losses = []\n",
    "    test_losses = []\n",
    "    for epoch in range(0,num_epochs):\n",
    "        count = 0\n",
    "        cum_loss = 0.\n",
    "        for i, (train_batch, label_batch) in enumerate(train_loader):\n",
    "            count = 1 + i\n",
    "            # Predict and calculate loss for user factor and bias\n",
    "            optimizer = torch.optim.SGD([model.user_biases.weight,model.user_factors.weight], lr=0.01, weight_decay=1e-5) # learning rate\n",
    "            prediction = model(train_batch[:,0].to(dev), train_batch[:,1].to(dev))\n",
    "            loss = loss_func(prediction, label_batch.to(dev)).float()    \n",
    "            # Backpropagate\n",
    "            loss.backward()\n",
    "\n",
    "            # Update the parameters\n",
    "            optimizer.step()\n",
    "            optimizer.zero_grad()\n",
    "\n",
    "            #predict and calculate loss for item factor and bias\n",
    "            optimizer = torch.optim.SGD([model.item_biases.weight,model.item_factors.weight], lr=0.01, weight_decay=1e-5) # learning rate\n",
    "            prediction = model(train_batch[:,0].to(dev), train_batch[:,1].to(dev))\n",
    "            loss = loss_func(prediction, label_batch.to(dev))\n",
    "            loss_item = loss.item()\n",
    "            if loss_item > 0:\n",
    "                cum_loss += loss_item\n",
    "            else:\n",
    "                count -= 1\n",
    "\n",
    "            # Backpropagate\n",
    "            loss.backward()\n",
    "\n",
    "            # Update the parameters\n",
    "            optimizer.step()\n",
    "            optimizer.zero_grad()\n",
    "        train_loss = cum_loss/count\n",
    "        train_losses.append(train_loss)\n",
    "\n",
    "        cum_loss =0.\n",
    "        count = 0\n",
    "        for i, (test_batch, label_batch) in enumerate(test_loader):\n",
    "            count = 1 + i\n",
    "            with torch.no_grad():\n",
    "                prediction = model(test_batch[:,0].to(dev), test_batch[:,1].to(dev))\n",
    "                loss = loss_func(prediction, label_batch.to(dev))\n",
    "                loss_item = loss.item()\n",
    "                if loss_item > 0:\n",
    "                    cum_loss += loss_item\n",
    "                else:\n",
    "                    count -= 1\n",
    "                \n",
    "        test_loss = cum_loss/count\n",
    "        test_losses.append(test_loss)\n",
    "        if epoch % 2 == 0:\n",
    "            print('epoch: ', epoch ,' avg training loss: ', train_loss, ' avg test loss: ',test_loss)\n",
    "    return train_losses, test_losses"
   ]
  },
  {
   "cell_type": "code",
   "execution_count": 5,
   "metadata": {},
   "outputs": [],
   "source": [
    "def model(data, img_name, n_factors=100, bs=100, num_epochs=100):\n",
    "    train, test, drug_dict, target_dict = data_split(data)\n",
    "    x_train, y_train = data_loader(train, drug_dict, target_dict)\n",
    "    x_test, y_test = data_loader(test, drug_dict, target_dict)\n",
    "\n",
    "    train_dataloader = DataLoader(RatingDataset(x_train, y_train), batch_size=bs, shuffle=True)\n",
    "    test_dataloader = DataLoader(RatingDataset(x_test, y_test), batch_size=bs)\n",
    "\n",
    "    model = MatrixFactorization(len(drug_dict), len(target_dict), n_factors=n_factors)\n",
    "\n",
    "    train_losses, test_losses = train_model(train_dataloader, test_dataloader, model, num_epochs)\n",
    "    \n",
    "    epochs = range(1, num_epochs+1)\n",
    "    plt.plot(epochs, train_losses, label='train')\n",
    "    plt.plot(epochs, test_losses, label='test')\n",
    "    plt.xlabel('epoch')\n",
    "    plt.ylabel('mse loss')\n",
    "    plt.legend()\n",
    "    plt.title(img_name)\n",
    "    plt.savefig(img_name)\n",
    "    plt.show()"
   ]
  },
  {
   "cell_type": "markdown",
   "metadata": {},
   "source": [
    "## Kd Dataset"
   ]
  },
  {
   "cell_type": "code",
   "execution_count": 6,
   "metadata": {},
   "outputs": [
    {
     "name": "stdout",
     "output_type": "stream",
     "text": [
      "epoch:  0  avg training loss:  33.2759672638717  avg test loss:  28.06465677533831\n",
      "epoch:  2  avg training loss:  24.08497165874311  avg test loss:  19.091746636799403\n",
      "epoch:  4  avg training loss:  18.65926076803997  avg test loss:  13.924940538406371\n",
      "epoch:  6  avg training loss:  15.31273664790354  avg test loss:  10.83237714767456\n",
      "epoch:  8  avg training loss:  13.146699495376295  avg test loss:  8.905244616099766\n",
      "epoch:  10  avg training loss:  11.68004565633786  avg test loss:  7.650640303747995\n",
      "epoch:  12  avg training loss:  10.6277952907951  avg test loss:  6.796592601708004\n",
      "epoch:  14  avg training loss:  9.84687403964389  avg test loss:  6.188443389960698\n",
      "epoch:  16  avg training loss:  9.230649276903481  avg test loss:  5.7361635667937145\n",
      "epoch:  18  avg training loss:  8.739146972158153  avg test loss:  5.385824169431414\n",
      "epoch:  20  avg training loss:  8.322001232463084  avg test loss:  5.104181480407715\n",
      "epoch:  22  avg training loss:  7.97172517077938  avg test loss:  4.870919634614672\n",
      "epoch:  24  avg training loss:  7.660443164740398  avg test loss:  4.672297467504229\n",
      "epoch:  26  avg training loss:  7.386071202861276  avg test loss:  4.499547457695007\n",
      "epoch:  28  avg training loss:  7.130675374322636  avg test loss:  4.3463217309543065\n",
      "epoch:  30  avg training loss:  6.902606210890849  avg test loss:  4.2087661606924875\n",
      "epoch:  32  avg training loss:  6.697086394212808  avg test loss:  4.083623084000179\n",
      "epoch:  34  avg training loss:  6.50196211808806  avg test loss:  3.968786430358887\n",
      "epoch:  36  avg training loss:  6.320077788298297  avg test loss:  3.8623859354427883\n",
      "epoch:  38  avg training loss:  6.15226217819627  avg test loss:  3.7632810439382283\n",
      "epoch:  40  avg training loss:  5.9897322176368375  avg test loss:  3.67029419030462\n",
      "epoch:  42  avg training loss:  5.836728954011468  avg test loss:  3.582594002996172\n",
      "epoch:  44  avg training loss:  5.692795885596306  avg test loss:  3.499471252305167\n",
      "epoch:  46  avg training loss:  5.555670955378538  avg test loss:  3.420316416876657\n",
      "epoch:  48  avg training loss:  5.425474188889668  avg test loss:  3.3446513235569\n",
      "epoch:  50  avg training loss:  5.298760923610371  avg test loss:  3.27205046074731\n",
      "epoch:  52  avg training loss:  5.180576331296544  avg test loss:  3.2022122059549605\n",
      "epoch:  54  avg training loss:  5.067223533703263  avg test loss:  3.134837407725198\n",
      "epoch:  56  avg training loss:  4.952693334810293  avg test loss:  3.0698134396757397\n",
      "epoch:  58  avg training loss:  4.844144055418148  avg test loss:  3.007060680219105\n",
      "epoch:  60  avg training loss:  4.741819833494295  avg test loss:  2.9464956871100836\n",
      "epoch:  62  avg training loss:  4.639541445264391  avg test loss:  2.8880331575870515\n",
      "epoch:  64  avg training loss:  4.542004924291258  avg test loss:  2.8316197412354605\n",
      "epoch:  66  avg training loss:  4.44726556767324  avg test loss:  2.77726913860866\n",
      "epoch:  68  avg training loss:  4.359927858516669  avg test loss:  2.724878054005759\n",
      "epoch:  70  avg training loss:  4.272531222765613  avg test loss:  2.674373401914324\n",
      "epoch:  72  avg training loss:  4.188615635701805  avg test loss:  2.625732891048704\n",
      "epoch:  74  avg training loss:  4.10698043312996  avg test loss:  2.578911760875157\n",
      "epoch:  76  avg training loss:  4.0319412586036005  avg test loss:  2.533810029711042\n",
      "epoch:  78  avg training loss:  3.9541452618161586  avg test loss:  2.4903625181743076\n",
      "epoch:  80  avg training loss:  3.882452074889165  avg test loss:  2.4484764686652594\n",
      "epoch:  82  avg training loss:  3.8121449191858816  avg test loss:  2.4082204971994674\n",
      "epoch:  84  avg training loss:  3.74373386126415  avg test loss:  2.369412760223661\n",
      "epoch:  86  avg training loss:  3.6775683468314493  avg test loss:  2.3320551122937885\n",
      "epoch:  88  avg training loss:  3.6144208600566645  avg test loss:  2.296084661143167\n",
      "epoch:  90  avg training loss:  3.5544346487446195  avg test loss:  2.2613851487636567\n",
      "epoch:  92  avg training loss:  3.4961378931239913  avg test loss:  2.2279526795659748\n",
      "epoch:  94  avg training loss:  3.437717135544795  avg test loss:  2.1957000357764107\n",
      "epoch:  96  avg training loss:  3.3832339188855167  avg test loss:  2.164635966505323\n",
      "epoch:  98  avg training loss:  3.3273756185155006  avg test loss:  2.1347191001687733\n"
     ]
    },
    {
     "data": {
      "image/png": "[encoded data removed]",
      "text/plain": [
       "<Figure size 432x288 with 1 Axes>"
      ]
     },
     "metadata": {
      "needs_background": "light"
     },
     "output_type": "display_data"
    }
   ],
   "source": [
    "model(data_Kd, 'Kd', bs=100, num_epochs=100)"
   ]
  },
  {
   "cell_type": "markdown",
   "metadata": {},
   "source": [
    "## IC50 Dataset"
   ]
  },
  {
   "cell_type": "code",
   "execution_count": 7,
   "metadata": {},
   "outputs": [
    {
     "name": "stdout",
     "output_type": "stream",
     "text": [
      "epoch:  0  avg training loss:  29.89830470526435  avg test loss:  20.639032198416537\n",
      "epoch:  2  avg training loss:  13.962125431967017  avg test loss:  11.362727234511198\n",
      "epoch:  4  avg training loss:  9.746925155949281  avg test loss:  8.264349045452349\n",
      "epoch:  6  avg training loss:  7.708551521596004  avg test loss:  6.6910978372224195\n",
      "epoch:  8  avg training loss:  6.488831546922393  avg test loss:  5.731207641774639\n",
      "epoch:  10  avg training loss:  5.670982327844235  avg test loss:  5.0800171883686565\n",
      "epoch:  12  avg training loss:  5.080789689763452  avg test loss:  4.607557813204702\n",
      "epoch:  14  avg training loss:  4.634083145481355  avg test loss:  4.248180216474083\n",
      "epoch:  16  avg training loss:  4.283596749053906  avg test loss:  3.9651818193591204\n",
      "epoch:  18  avg training loss:  3.9998349510240807  avg test loss:  3.736021814866712\n",
      "epoch:  20  avg training loss:  3.7664726978855194  avg test loss:  3.54693130442586\n",
      "epoch:  22  avg training loss:  3.5694184185066296  avg test loss:  3.3874872145223005\n",
      "epoch:  24  avg training loss:  3.4016142310503485  avg test loss:  3.2516428718239454\n",
      "epoch:  26  avg training loss:  3.2566927683375693  avg test loss:  3.1339244442728673\n",
      "epoch:  28  avg training loss:  3.129813372896531  avg test loss:  3.031234407337219\n",
      "epoch:  30  avg training loss:  3.0176787563243974  avg test loss:  2.940134645458528\n",
      "epoch:  32  avg training loss:  2.9177511707795944  avg test loss:  2.8590365890927436\n",
      "epoch:  34  avg training loss:  2.82854369069668  avg test loss:  2.7863913070636612\n",
      "epoch:  36  avg training loss:  2.7476949825981594  avg test loss:  2.7207305388973944\n",
      "epoch:  38  avg training loss:  2.6743183121411582  avg test loss:  2.66111851067429\n",
      "epoch:  40  avg training loss:  2.607394419535855  avg test loss:  2.6067482766602246\n",
      "epoch:  42  avg training loss:  2.5462614304749343  avg test loss:  2.5567005340633475\n",
      "epoch:  44  avg training loss:  2.489543359739952  avg test loss:  2.510791636185731\n",
      "epoch:  46  avg training loss:  2.4371293637035536  avg test loss:  2.4681969796273697\n",
      "epoch:  48  avg training loss:  2.3886288337056514  avg test loss:  2.4285956408479037\n",
      "epoch:  50  avg training loss:  2.3433379020891727  avg test loss:  2.391719254374431\n",
      "epoch:  52  avg training loss:  2.3012336011369356  avg test loss:  2.3574414192570416\n",
      "epoch:  54  avg training loss:  2.261487938852095  avg test loss:  2.325219096032335\n",
      "epoch:  56  avg training loss:  2.2243776632339083  avg test loss:  2.2949132732201907\n",
      "epoch:  58  avg training loss:  2.1893005134152888  avg test loss:  2.2664747196498056\n",
      "epoch:  60  avg training loss:  2.1563708287261907  avg test loss:  2.2397259529348825\n",
      "epoch:  62  avg training loss:  2.1250639676865544  avg test loss:  2.214272891795394\n",
      "epoch:  64  avg training loss:  2.095426081092881  avg test loss:  2.1900698555385607\n",
      "epoch:  66  avg training loss:  2.0674943421728686  avg test loss:  2.167304945606019\n",
      "epoch:  68  avg training loss:  2.040580878356536  avg test loss:  2.1457064049438346\n",
      "epoch:  70  avg training loss:  2.015145781510227  avg test loss:  2.1249916638281356\n",
      "epoch:  72  avg training loss:  1.9906191350871627  avg test loss:  2.1054093894748\n",
      "epoch:  74  avg training loss:  1.9673088316116618  avg test loss:  2.086515116516174\n",
      "epoch:  76  avg training loss:  1.944861187162009  avg test loss:  2.0686190289123743\n",
      "epoch:  78  avg training loss:  1.9233652038006612  avg test loss:  2.0513253386659462\n",
      "epoch:  80  avg training loss:  1.902539698817285  avg test loss:  2.034691348315601\n",
      "epoch:  82  avg training loss:  1.8825747274060993  avg test loss:  2.0186093905306826\n",
      "epoch:  84  avg training loss:  1.8634128186147674  avg test loss:  2.0033028589151596\n",
      "epoch:  86  avg training loss:  1.8446507337016835  avg test loss:  1.9885736795965694\n",
      "epoch:  88  avg training loss:  1.8264446071805969  avg test loss:  1.9741553059390247\n",
      "epoch:  90  avg training loss:  1.8088102979456797  avg test loss:  1.9605137312945817\n",
      "epoch:  92  avg training loss:  1.7916405874129406  avg test loss:  1.9471895221111455\n",
      "epoch:  94  avg training loss:  1.7748404225806749  avg test loss:  1.9343751098830446\n",
      "epoch:  96  avg training loss:  1.7583296924682723  avg test loss:  1.9217796206547393\n",
      "epoch:  98  avg training loss:  1.7423351542474783  avg test loss:  1.9096841810671996\n"
     ]
    },
    {
     "data": {
      "image/png": "[encoded data removed]",
      "text/plain": [
       "<Figure size 432x288 with 1 Axes>"
      ]
     },
     "metadata": {
      "needs_background": "light"
     },
     "output_type": "display_data"
    }
   ],
   "source": [
    "model(data_ic50, 'ic50', n_factors=20, bs=100, num_epochs=100)"
   ]
  },
  {
   "cell_type": "markdown",
   "metadata": {},
   "source": [
    "## Ki Dataset"
   ]
  },
  {
   "cell_type": "code",
   "execution_count": 8,
   "metadata": {},
   "outputs": [
    {
     "name": "stdout",
     "output_type": "stream",
     "text": [
      "epoch:  0  avg training loss:  35.98181449042426  avg test loss:  24.996778645599324\n",
      "epoch:  2  avg training loss:  18.13956129080933  avg test loss:  14.392521938225897\n",
      "epoch:  4  avg training loss:  13.121375892324687  avg test loss:  10.726886044658407\n",
      "epoch:  6  avg training loss:  10.587859504539052  avg test loss:  8.797983205044222\n",
      "epoch:  8  avg training loss:  9.026463681438063  avg test loss:  7.59398698935812\n",
      "epoch:  10  avg training loss:  7.954960704704339  avg test loss:  6.763792378654015\n",
      "epoch:  12  avg training loss:  7.167560565856196  avg test loss:  6.152407049648817\n",
      "epoch:  14  avg training loss:  6.5616668386912265  avg test loss:  5.680687733044966\n",
      "epoch:  16  avg training loss:  6.079200833715419  avg test loss:  5.30328320747138\n",
      "epoch:  18  avg training loss:  5.682887323975136  avg test loss:  4.993548232260512\n",
      "epoch:  20  avg training loss:  5.351802944175659  avg test loss:  4.733796726544268\n",
      "epoch:  22  avg training loss:  5.0690682601971435  avg test loss:  4.512448045333119\n",
      "epoch:  24  avg training loss:  4.825635293371788  avg test loss:  4.320633409794355\n",
      "epoch:  26  avg training loss:  4.612508818560603  avg test loss:  4.152606711174703\n",
      "epoch:  28  avg training loss:  4.424416196282192  avg test loss:  4.0042877074668795\n",
      "epoch:  30  avg training loss:  4.257007542102995  avg test loss:  3.8719847224884654\n",
      "epoch:  32  avg training loss:  4.106609938873185  avg test loss:  3.7528720368229167\n",
      "epoch:  34  avg training loss:  3.970591872396435  avg test loss:  3.6456423163897935\n",
      "epoch:  36  avg training loss:  3.847526604182831  avg test loss:  3.547957955097152\n",
      "epoch:  38  avg training loss:  3.734383714402021  avg test loss:  3.4586228756523907\n",
      "epoch:  40  avg training loss:  3.631061237505687  avg test loss:  3.37663399850564\n",
      "epoch:  42  avg training loss:  3.5353707046812155  avg test loss:  3.3011835661889415\n",
      "epoch:  44  avg training loss:  3.446344867936172  avg test loss:  3.2314496162941073\n",
      "epoch:  46  avg training loss:  3.3641831293221443  avg test loss:  3.166470088397376\n",
      "epoch:  48  avg training loss:  3.287220098585638  avg test loss:  3.1061970082606933\n",
      "epoch:  50  avg training loss:  3.2150885248590115  avg test loss:  3.0495618580158736\n",
      "epoch:  52  avg training loss:  3.1475025795159803  avg test loss:  2.996758886699909\n",
      "epoch:  54  avg training loss:  3.0841544260367697  avg test loss:  2.946954763467967\n",
      "epoch:  56  avg training loss:  3.0237109666443214  avg test loss:  2.900196330634441\n",
      "epoch:  58  avg training loss:  2.967054580915786  avg test loss:  2.8558669385471265\n",
      "epoch:  60  avg training loss:  2.9126538666879833  avg test loss:  2.8140327812692956\n",
      "epoch:  62  avg training loss:  2.860631208479618  avg test loss:  2.774159764727333\n",
      "epoch:  64  avg training loss:  2.811379823473192  avg test loss:  2.7362851435179962\n",
      "epoch:  66  avg training loss:  2.764115034358903  avg test loss:  2.700288465123054\n",
      "epoch:  68  avg training loss:  2.718509282582977  avg test loss:  2.665910248343451\n",
      "epoch:  70  avg training loss:  2.6746804839714455  avg test loss:  2.6328701408370745\n",
      "epoch:  72  avg training loss:  2.632638457534988  avg test loss:  2.6009278213542273\n",
      "epoch:  74  avg training loss:  2.5915179238738126  avg test loss:  2.5705566143312053\n",
      "epoch:  76  avg training loss:  2.551803967538273  avg test loss:  2.54105898572563\n",
      "epoch:  78  avg training loss:  2.5132195650997127  avg test loss:  2.512272499894902\n",
      "epoch:  80  avg training loss:  2.475148263370692  avg test loss:  2.484793361856102\n",
      "epoch:  82  avg training loss:  2.4386129997750765  avg test loss:  2.458190804082744\n",
      "epoch:  84  avg training loss:  2.4022179805142905  avg test loss:  2.432021469160088\n",
      "epoch:  86  avg training loss:  2.3665895067342295  avg test loss:  2.4067856683137454\n",
      "epoch:  88  avg training loss:  2.331550794583495  avg test loss:  2.3820990209489135\n",
      "epoch:  90  avg training loss:  2.297138489061786  avg test loss:  2.3581532610930673\n",
      "epoch:  92  avg training loss:  2.262954976823595  avg test loss:  2.33439535684934\n",
      "epoch:  94  avg training loss:  2.2294246928238954  avg test loss:  2.311413604932483\n",
      "epoch:  96  avg training loss:  2.1964966721539003  avg test loss:  2.289151284949544\n",
      "epoch:  98  avg training loss:  2.1636791694442006  avg test loss:  2.267196514287079\n"
     ]
    },
    {
     "data": {
      "image/png": "[encoded data removed]",
      "text/plain": [
       "<Figure size 432x288 with 1 Axes>"
      ]
     },
     "metadata": {
      "needs_background": "light"
     },
     "output_type": "display_data"
    }
   ],
   "source": [
    "model(data_Ki, 'Ki', bs=100, num_epochs=100)"
   ]
  }
 ],
 "metadata": {
  "kernelspec": {
   "display_name": "Python 3",
   "language": "python",
   "name": "python3"
  },
  "language_info": {
   "codemirror_mode": {
    "name": "ipython",
    "version": 3
   },
   "file_extension": ".py",
   "mimetype": "text/x-python",
   "name": "python",
   "nbconvert_exporter": "python",
   "pygments_lexer": "ipython3",
   "version": "3.8.5"
  }
 },
 "nbformat": 4,
 "nbformat_minor": 4
}
