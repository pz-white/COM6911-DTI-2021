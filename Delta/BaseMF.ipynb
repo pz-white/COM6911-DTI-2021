{
 "cells": [
  {
   "cell_type": "markdown",
   "id": "8222028c",
   "metadata": {},
   "source": [
    "# Base Matrix Factorisation"
   ]
  },
  {
   "cell_type": "code",
   "execution_count": null,
   "id": "8a1802a2",
   "metadata": {},
   "outputs": [],
   "source": [
    "# import modules\n",
    "import numpy as np\n",
    "import matplotlib.pyplot as plt\n",
    "import torch\n",
    "from tdc.multi_pred import DTI\n",
    "from torch.utils.data import Dataset, DataLoader\n",
    "from sklearn.metrics.pairwise import cosine_similarity\n",
    "from sklearn.feature_extraction.text import CountVectorizer\n",
    "import logging\n",
    "from rdkit import Chem\n",
    "\n",
    "# load in the three datasets\n",
    "data_Kd = DTI(name = 'BindingDB_Kd')\n",
    "data_Kd.convert_to_log(form = 'binding')\n",
    "\n",
    "data_ic50 = DTI(name = 'BindingDB_IC50')\n",
    "data_ic50.convert_to_log(form = 'binding')\n",
    "\n",
    "data_Ki = DTI(name = 'BindingDB_Ki')\n",
    "data_Ki.convert_to_log(form = 'binding')"
   ]
  },
  {
   "cell_type": "code",
   "execution_count": 4,
   "id": "0baa5c11",
   "metadata": {},
   "outputs": [],
   "source": [
    "def data_split(data):\n",
    "    # split data and get ID dicts\n",
    "    split = data.get_split(seed = 42,  frac = [0.6, 0.05, 0.35])\n",
    "    train = split['train']\n",
    "    test = split['test']\n",
    "\n",
    "    train = train[['Drug_ID', 'Drug', 'Target', 'Y']].dropna()\n",
    "    train = train.reset_index(drop=True)\n",
    "\n",
    "    ID_to_Drug = dict(enumerate(list(dict.fromkeys(train['Drug_ID']))))\n",
    "    ID_to_Target = dict(enumerate(list(dict.fromkeys(train['Target']))))\n",
    "    Drug_to_ID = dict((v,k) for k,v in ID_to_Drug.items())\n",
    "    Target_to_ID = dict((v,k) for k,v in ID_to_Target.items())\n",
    "    \n",
    "    return train, test, Drug_to_ID, Target_to_ID\n",
    "\n",
    "def data_loader(data, drug_dict, target_dict):\n",
    "    # load data into correct format\n",
    "    data[\"Target_ID2\"] = data[\"Target\"].apply(lambda x:target_dict.get(x))\n",
    "    data[\"Drug_ID2\"] = data[\"Drug_ID\"].apply(lambda x:drug_dict.get(x))\n",
    "    data = data.dropna()\n",
    "\n",
    "    drug_ID = data[\"Drug_ID2\"].to_numpy()\n",
    "    target_ID = data[\"Target_ID2\"].to_numpy()\n",
    "    features = np.vstack((drug_ID, target_ID)).T\n",
    "    label = data['Y'].to_numpy()\n",
    "    return features, label\n",
    "\n",
    "class RatingDataset(Dataset):\n",
    "    def __init__(self, train, label):\n",
    "        self.feature_= train\n",
    "        self.label_= label\n",
    "    def __len__(self):\n",
    "    #return size of dataset\n",
    "        return len(self.feature_)\n",
    "    def __getitem__(self, idx):\n",
    "        return  torch.tensor(self.feature_[idx], dtype=torch.long),torch.tensor(self.label_[idx], dtype=torch.float)\n",
    "    \n",
    "    \n",
    "class MatrixFactorization(torch.nn.Module):\n",
    "    \n",
    "    def __init__(self, n_users, n_items, n_factors):\n",
    "        super().__init__()\n",
    "        self.user_factors = torch.nn.Embedding(n_users, n_factors)\n",
    "        self.item_factors = torch.nn.Embedding(n_items, n_factors)\n",
    "        torch.nn.init.xavier_uniform_(self.user_factors.weight)\n",
    "        torch.nn.init.xavier_uniform_(self.item_factors.weight)\n",
    "        \n",
    "        self.user_biases = torch.nn.Embedding(n_users, 1)\n",
    "        self.item_biases = torch.nn.Embedding(n_items,1)\n",
    "        self.user_biases.weight.data.fill_(0.)\n",
    "        self.item_biases.weight.data.fill_(0.)\n",
    "\n",
    "        \n",
    "    def forward(self, user, item):  \n",
    "        pred = self.user_biases(user) + self.item_biases(item)\n",
    "        pred += (self.user_factors(user) * self.item_factors(item)).sum(1, keepdim=True)\n",
    "        return pred.squeeze()"
   ]
  },
  {
   "cell_type": "code",
   "execution_count": 13,
   "id": "d95e574e",
   "metadata": {},
   "outputs": [],
   "source": [
    "def train_model(train_loader, test_loader, model, num_epochs=100):\n",
    "    dev = torch.device(\"cuda\") if torch.cuda.is_available() else torch.device(\"cpu\")\n",
    "    loss_func = torch.nn.MSELoss()\n",
    "    \n",
    "    model.to(dev)\n",
    "    \n",
    "    train_losses = []\n",
    "    test_losses = []\n",
    "    for epoch in range(0,num_epochs):\n",
    "        count = 0\n",
    "        cum_loss = 0.\n",
    "        for i, (train_batch, label_batch) in enumerate(train_loader):\n",
    "            count = 1 + i\n",
    "            # Predict and calculate loss for user factor and bias\n",
    "            optimizer = torch.optim.SGD([model.user_biases.weight,model.user_factors.weight], lr=0.05, weight_decay=1e-5)\n",
    "            prediction = model(train_batch[:,0].to(dev), train_batch[:,1].to(dev))\n",
    "            loss = loss_func(prediction, label_batch.to(dev)).float()    \n",
    "            # Backpropagate\n",
    "            loss.backward()\n",
    "\n",
    "            # Update the parameters\n",
    "            optimizer.step()\n",
    "            optimizer.zero_grad()\n",
    "\n",
    "            # predict and calculate loss for item factor and bias\n",
    "            optimizer = torch.optim.SGD([model.item_biases.weight,model.item_factors.weight], lr=0.05, weight_decay=1e-5)             \n",
    "            prediction = model(train_batch[:,0].to(dev), train_batch[:,1].to(dev))\n",
    "            loss = loss_func(prediction, label_batch.to(dev))\n",
    "            loss_item = loss.item()\n",
    "            cum_loss += loss_item\n",
    "\n",
    "\n",
    "            # Backpropagate\n",
    "            loss.backward()\n",
    "\n",
    "            # Update the parameters\n",
    "            optimizer.step()\n",
    "            optimizer.zero_grad()\n",
    "        train_loss = cum_loss/count\n",
    "        train_losses.append(train_loss)\n",
    "\n",
    "        cum_loss =0.\n",
    "        count = 0\n",
    "        for i, (test_batch, label_batch) in enumerate(test_loader):\n",
    "            count = 1 + i\n",
    "            with torch.no_grad():\n",
    "                prediction = model(test_batch[:,0].to(dev), test_batch[:,1].to(dev))\n",
    "                loss = loss_func(prediction, label_batch.to(dev))\n",
    "                cum_loss += loss.item()\n",
    "\n",
    "        test_loss = cum_loss/count\n",
    "        test_losses.append(test_loss)\n",
    "        if epoch % 20 == 0:\n",
    "            print('epoch: ', epoch ,' avg training loss: ', train_loss, ' avg test loss: ',test_loss)\n",
    "    return train_losses, test_losses"
   ]
  },
  {
   "cell_type": "code",
   "execution_count": 14,
   "id": "c6a8a4c4",
   "metadata": {},
   "outputs": [],
   "source": [
    "def full_model(data, img_name, n_factors=100, bs=100, num_epochs=100):\n",
    "    train, test, drug_dict, target_dict = data_split(data)\n",
    "    x_train, y_train = data_loader(train, drug_dict, target_dict)\n",
    "    x_test, y_test = data_loader(test, drug_dict, target_dict)\n",
    "\n",
    "    train_dataloader = DataLoader(RatingDataset(x_train, y_train), batch_size=bs, shuffle=True)\n",
    "    test_dataloader = DataLoader(RatingDataset(x_test, y_test), batch_size=bs)\n",
    "    \n",
    "    model = MatrixFactorization(len(drug_dict), len(target_dict), n_factors)\n",
    "\n",
    "    train_losses, test_losses = train_model(train_dataloader, test_dataloader, model, num_epochs)\n",
    "\n",
    "    epochs = range(1, num_epochs+1)\n",
    "    plt.plot(epochs, train_losses, label='train')\n",
    "    plt.plot(epochs, test_losses, label='test')\n",
    "    plt.xlabel('epoch')\n",
    "    plt.ylabel('mse loss')\n",
    "    plt.legend()\n",
    "    plt.title(img_name)\n",
    "#     plt.savefig(img_name)\n",
    "    plt.show()"
   ]
  },
  {
   "cell_type": "code",
   "execution_count": 9,
   "id": "8832a4a6",
   "metadata": {},
   "outputs": [
    {
     "name": "stdout",
     "output_type": "stream",
     "text": [
      "epoch:  0  avg training loss:  26.660169303796852  avg test loss:  16.174788652147566\n",
      "epoch:  20  avg training loss:  4.053772947590822  avg test loss:  2.5281133719852993\n",
      "epoch:  40  avg training loss:  2.409251198267481  avg test loss:  1.6172241172620228\n",
      "epoch:  60  avg training loss:  1.7407010565897463  avg test loss:  1.3006984106131962\n",
      "epoch:  80  avg training loss:  1.3414458771040485  avg test loss:  1.1238634309598379\n",
      "epoch:  100  avg training loss:  1.0726482408821203  avg test loss:  1.0215022231851305\n",
      "epoch:  120  avg training loss:  0.8781888982292952  avg test loss:  0.9637112534471921\n",
      "epoch:  140  avg training loss:  0.735542641228931  avg test loss:  0.927587346306869\n",
      "epoch:  160  avg training loss:  0.6282894065140918  avg test loss:  0.9034077904054096\n",
      "epoch:  180  avg training loss:  0.5468460564875299  avg test loss:  0.8872638006295477\n",
      "epoch:  200  avg training loss:  0.4824781197651177  avg test loss:  0.8768188791615622\n",
      "epoch:  220  avg training loss:  0.4316732628615039  avg test loss:  0.8711621782609394\n",
      "epoch:  240  avg training loss:  0.39202978172499664  avg test loss:  0.8689568406769208\n",
      "epoch:  260  avg training loss:  0.3601925852382259  avg test loss:  0.8688780693071229\n",
      "epoch:  280  avg training loss:  0.33506061521115577  avg test loss:  0.869989706150123\n",
      "epoch:  300  avg training loss:  0.3152066963208709  avg test loss:  0.8717880004218647\n",
      "epoch:  320  avg training loss:  0.29840509574504415  avg test loss:  0.8742501433406558\n",
      "epoch:  340  avg training loss:  0.2847164448848955  avg test loss:  0.8770422726869583\n"
     ]
    },
    {
     "data": {
      "image/png": "[encoded data removed]",
      "text/plain": [
       "<Figure size 432x288 with 1 Axes>"
      ]
     },
     "metadata": {
      "needs_background": "light"
     },
     "output_type": "display_data"
    }
   ],
   "source": [
    "full_model(data_Kd, 'Kd', n_factors=20, bs=100, num_epochs=360)"
   ]
  },
  {
   "cell_type": "code",
   "execution_count": 17,
   "id": "9cbd4886",
   "metadata": {},
   "outputs": [],
   "source": [
    "full_model(data_Ki, 'Ki', n_factors=20, bs=100, num_epochs=260)"
   ]
  },
  {
   "cell_type": "code",
   "execution_count": 16,
   "id": "020ce951",
   "metadata": {},
   "outputs": [],
   "source": [
    "full_model(data_ic50, 'ic50', n_factors=20, bs=100, num_epochs=260)"
   ]
  }
 ],
 "metadata": {
  "kernelspec": {
   "display_name": "Python 3",
   "language": "python",
   "name": "python3"
  }
 },
 "nbformat": 4,
 "nbformat_minor": 5
}
