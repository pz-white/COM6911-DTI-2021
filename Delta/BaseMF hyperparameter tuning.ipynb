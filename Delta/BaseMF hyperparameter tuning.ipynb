{
 "cells": [
  {
   "cell_type": "markdown",
   "metadata": {},
   "source": [
    "# Hyperparameter training for Base Matrix Factorisation"
   ]
  },
  {
   "cell_type": "code",
   "execution_count": 1,
   "metadata": {
    "scrolled": false
   },
   "outputs": [
    {
     "name": "stderr",
     "output_type": "stream",
     "text": [
      "Found local copy...\n",
      "Loading...\n",
      "Done!\n",
      "To log space...\n",
      "Found local copy...\n",
      "Loading...\n",
      "Done!\n",
      "To log space...\n",
      "Found local copy...\n",
      "Loading...\n",
      "Done!\n",
      "To log space...\n"
     ]
    }
   ],
   "source": [
    "# import modules\n",
    "import numpy as np\n",
    "import matplotlib.pyplot as plt\n",
    "import torch\n",
    "from tdc.multi_pred import DTI\n",
    "from torch.utils.data import Dataset, DataLoader\n",
    "from sklearn.metrics import accuracy_score, precision_score, recall_score, f1_score\n",
    "from sklearn.metrics import mean_absolute_error, mean_squared_error \n",
    "\n",
    "# load in the three datasets\n",
    "data_Kd = DTI(name = 'BindingDB_Kd')\n",
    "data_Kd.convert_to_log(form = 'binding')\n",
    "\n",
    "data_ic50 = DTI(name = 'BindingDB_IC50')\n",
    "data_ic50.convert_to_log(form = 'binding')\n",
    "\n",
    "data_Ki = DTI(name = 'BindingDB_Ki')\n",
    "data_Ki.convert_to_log(form = 'binding')"
   ]
  },
  {
   "cell_type": "code",
   "execution_count": 2,
   "metadata": {},
   "outputs": [
    {
     "data": {
      "text/html": [
       "<div>\n",
       "<style scoped>\n",
       "    .dataframe tbody tr th:only-of-type {\n",
       "        vertical-align: middle;\n",
       "    }\n",
       "\n",
       "    .dataframe tbody tr th {\n",
       "        vertical-align: top;\n",
       "    }\n",
       "\n",
       "    .dataframe thead th {\n",
       "        text-align: right;\n",
       "    }\n",
       "</style>\n",
       "<table border=\"1\" class=\"dataframe\">\n",
       "  <thead>\n",
       "    <tr style=\"text-align: right;\">\n",
       "      <th></th>\n",
       "      <th>Drug_ID</th>\n",
       "      <th>Drug</th>\n",
       "      <th>Target_ID</th>\n",
       "      <th>Target</th>\n",
       "      <th>Y</th>\n",
       "    </tr>\n",
       "  </thead>\n",
       "  <tbody>\n",
       "    <tr>\n",
       "      <th>0</th>\n",
       "      <td>444607.0</td>\n",
       "      <td>Cc1ccc(CNS(=O)(=O)c2ccc(S(N)(=O)=O)s2)cc1</td>\n",
       "      <td>P00918</td>\n",
       "      <td>MSHHWGYGKHNGPEHWHKDFPIAKGERQSPVDIDTHTAKYDPSLKP...</td>\n",
       "      <td>9.251812</td>\n",
       "    </tr>\n",
       "    <tr>\n",
       "      <th>1</th>\n",
       "      <td>4316.0</td>\n",
       "      <td>COc1ccc(CNS(=O)(=O)c2ccc(S(N)(=O)=O)s2)cc1</td>\n",
       "      <td>P00918</td>\n",
       "      <td>MSHHWGYGKHNGPEHWHKDFPIAKGERQSPVDIDTHTAKYDPSLKP...</td>\n",
       "      <td>9.229148</td>\n",
       "    </tr>\n",
       "    <tr>\n",
       "      <th>2</th>\n",
       "      <td>4293.0</td>\n",
       "      <td>NS(=O)(=O)c1ccc(S(=O)(=O)NCc2cccs2)s1</td>\n",
       "      <td>P00918</td>\n",
       "      <td>MSHHWGYGKHNGPEHWHKDFPIAKGERQSPVDIDTHTAKYDPSLKP...</td>\n",
       "      <td>9.031517</td>\n",
       "    </tr>\n",
       "    <tr>\n",
       "      <th>3</th>\n",
       "      <td>1611.0</td>\n",
       "      <td>NS(=O)(=O)c1cc2c(s1)S(=O)(=O)N(Cc1cccs1)CC2O</td>\n",
       "      <td>P00918</td>\n",
       "      <td>MSHHWGYGKHNGPEHWHKDFPIAKGERQSPVDIDTHTAKYDPSLKP...</td>\n",
       "      <td>9.522879</td>\n",
       "    </tr>\n",
       "    <tr>\n",
       "      <th>4</th>\n",
       "      <td>1612.0</td>\n",
       "      <td>COc1ccc(N2CC(O)c3cc(S(N)(=O)=O)sc3S2(=O)=O)cc1</td>\n",
       "      <td>P00918</td>\n",
       "      <td>MSHHWGYGKHNGPEHWHKDFPIAKGERQSPVDIDTHTAKYDPSLKP...</td>\n",
       "      <td>9.585027</td>\n",
       "    </tr>\n",
       "    <tr>\n",
       "      <th>...</th>\n",
       "      <td>...</td>\n",
       "      <td>...</td>\n",
       "      <td>...</td>\n",
       "      <td>...</td>\n",
       "      <td>...</td>\n",
       "    </tr>\n",
       "    <tr>\n",
       "      <th>52269</th>\n",
       "      <td>53358942.0</td>\n",
       "      <td>COc1cc(C(=O)O)ccc1NC(=O)[C@@H]1N[C@@H](CC(C)(C...</td>\n",
       "      <td>NaN</td>\n",
       "      <td>MCNTNMSVPTDGAVTTSQIPASEQETLVRPKPLLLKLLKSVGAQKD...</td>\n",
       "      <td>9.602060</td>\n",
       "    </tr>\n",
       "    <tr>\n",
       "      <th>52270</th>\n",
       "      <td>53476877.0</td>\n",
       "      <td>CC(C)(C)C[C@@H]1N[C@@H](C(=O)N[C@H]2CC[C@H](O)...</td>\n",
       "      <td>NaN</td>\n",
       "      <td>MCNTNMSVPTDGAVTTSQIPASEQETLVRPKPLLLKLLKSVGAQKD...</td>\n",
       "      <td>8.552842</td>\n",
       "    </tr>\n",
       "    <tr>\n",
       "      <th>52271</th>\n",
       "      <td>58573469.0</td>\n",
       "      <td>CC(C)[C@@H](CS(=O)(=O)C(C)C)N1C(=O)[C@@](C)(CC...</td>\n",
       "      <td>NaN</td>\n",
       "      <td>MCNTNMSVPTDGAVTTSQIPASEQETLVRPKPLLLKLLKSVGAQKD...</td>\n",
       "      <td>9.838632</td>\n",
       "    </tr>\n",
       "    <tr>\n",
       "      <th>52272</th>\n",
       "      <td>113557.0</td>\n",
       "      <td>CCCCCCCOC1OC(CO)C(O)C(O)C1O</td>\n",
       "      <td>P08191</td>\n",
       "      <td>MKRVITLFAVLLMGWSVNAWSFACKTANGTAIPIGGGSANVYVNLA...</td>\n",
       "      <td>7.767004</td>\n",
       "    </tr>\n",
       "    <tr>\n",
       "      <th>52273</th>\n",
       "      <td>113557.0</td>\n",
       "      <td>CCCCCCCOC1OC(CO)C(O)C(O)C1O</td>\n",
       "      <td>P08191</td>\n",
       "      <td>MKRVITLFAVLLMGWSVNAWSFACKTANGTAIPIGGGSANVYVNLA...</td>\n",
       "      <td>7.718967</td>\n",
       "    </tr>\n",
       "  </tbody>\n",
       "</table>\n",
       "<p>52274 rows × 5 columns</p>\n",
       "</div>"
      ],
      "text/plain": [
       "          Drug_ID                                               Drug  \\\n",
       "0        444607.0          Cc1ccc(CNS(=O)(=O)c2ccc(S(N)(=O)=O)s2)cc1   \n",
       "1          4316.0         COc1ccc(CNS(=O)(=O)c2ccc(S(N)(=O)=O)s2)cc1   \n",
       "2          4293.0              NS(=O)(=O)c1ccc(S(=O)(=O)NCc2cccs2)s1   \n",
       "3          1611.0       NS(=O)(=O)c1cc2c(s1)S(=O)(=O)N(Cc1cccs1)CC2O   \n",
       "4          1612.0     COc1ccc(N2CC(O)c3cc(S(N)(=O)=O)sc3S2(=O)=O)cc1   \n",
       "...           ...                                                ...   \n",
       "52269  53358942.0  COc1cc(C(=O)O)ccc1NC(=O)[C@@H]1N[C@@H](CC(C)(C...   \n",
       "52270  53476877.0  CC(C)(C)C[C@@H]1N[C@@H](C(=O)N[C@H]2CC[C@H](O)...   \n",
       "52271  58573469.0  CC(C)[C@@H](CS(=O)(=O)C(C)C)N1C(=O)[C@@](C)(CC...   \n",
       "52272    113557.0                        CCCCCCCOC1OC(CO)C(O)C(O)C1O   \n",
       "52273    113557.0                        CCCCCCCOC1OC(CO)C(O)C(O)C1O   \n",
       "\n",
       "      Target_ID                                             Target         Y  \n",
       "0        P00918  MSHHWGYGKHNGPEHWHKDFPIAKGERQSPVDIDTHTAKYDPSLKP...  9.251812  \n",
       "1        P00918  MSHHWGYGKHNGPEHWHKDFPIAKGERQSPVDIDTHTAKYDPSLKP...  9.229148  \n",
       "2        P00918  MSHHWGYGKHNGPEHWHKDFPIAKGERQSPVDIDTHTAKYDPSLKP...  9.031517  \n",
       "3        P00918  MSHHWGYGKHNGPEHWHKDFPIAKGERQSPVDIDTHTAKYDPSLKP...  9.522879  \n",
       "4        P00918  MSHHWGYGKHNGPEHWHKDFPIAKGERQSPVDIDTHTAKYDPSLKP...  9.585027  \n",
       "...         ...                                                ...       ...  \n",
       "52269       NaN  MCNTNMSVPTDGAVTTSQIPASEQETLVRPKPLLLKLLKSVGAQKD...  9.602060  \n",
       "52270       NaN  MCNTNMSVPTDGAVTTSQIPASEQETLVRPKPLLLKLLKSVGAQKD...  8.552842  \n",
       "52271       NaN  MCNTNMSVPTDGAVTTSQIPASEQETLVRPKPLLLKLLKSVGAQKD...  9.838632  \n",
       "52272    P08191  MKRVITLFAVLLMGWSVNAWSFACKTANGTAIPIGGGSANVYVNLA...  7.767004  \n",
       "52273    P08191  MKRVITLFAVLLMGWSVNAWSFACKTANGTAIPIGGGSANVYVNLA...  7.718967  \n",
       "\n",
       "[52274 rows x 5 columns]"
      ]
     },
     "execution_count": 2,
     "metadata": {},
     "output_type": "execute_result"
    }
   ],
   "source": [
    "data_Kd.get_data()"
   ]
  },
  {
   "cell_type": "markdown",
   "metadata": {},
   "source": [
    "## ALS model\n",
    "Model used is adapted from https://medium.com/@rinabuoy13/explicit-recommender-system-matrix-factorization-in-pytorch-f3779bb55d74"
   ]
  },
  {
   "cell_type": "code",
   "execution_count": 3,
   "metadata": {},
   "outputs": [],
   "source": [
    "def data_split(data):\n",
    "    # split data and get ID dicts\n",
    "    split = data.get_split(method = 'random', seed = 42, frac = [0.6, 0.05, 0.35])\n",
    "    train = split['train']\n",
    "    test = split['test']\n",
    "\n",
    "    train = train[['Drug_ID', 'Target', 'Y']].dropna()\n",
    "\n",
    "    ID_to_Drug = dict(enumerate(list(dict.fromkeys(train['Drug_ID']))))\n",
    "    ID_to_Target = dict(enumerate(list(dict.fromkeys(train['Target']))))\n",
    "\n",
    "    Drug_to_ID = dict((v,k) for k,v in ID_to_Drug.items())\n",
    "    Target_to_ID = dict((v,k) for k,v in ID_to_Target.items())\n",
    "    return train, test, Drug_to_ID, Target_to_ID\n",
    "\n",
    "def data_loader(data, drug_dict, target_dict):\n",
    "    # load data into correct format\n",
    "    data[\"Target_ID2\"] = data[\"Target\"].apply(lambda x:target_dict.get(x))\n",
    "    data[\"Drug_ID2\"] = data[\"Drug_ID\"].apply(lambda x:drug_dict.get(x))\n",
    "    data = data.dropna()\n",
    "\n",
    "    drug_ID = data[\"Drug_ID2\"].to_numpy()\n",
    "    target_ID = data[\"Target_ID2\"].to_numpy()\n",
    "    features = np.vstack((drug_ID, target_ID)).T\n",
    "    label = data['Y'].to_numpy()\n",
    "    return features, label\n",
    "\n",
    "\n",
    "class RatingDataset(Dataset):\n",
    "    def __init__(self, train, label):\n",
    "        self.feature_= train\n",
    "        self.label_= label\n",
    "    def __len__(self):\n",
    "    #return size of dataset\n",
    "        return len(self.feature_)\n",
    "    def __getitem__(self, idx):\n",
    "        return  torch.tensor(self.feature_[idx], dtype=torch.long),torch.tensor(self.label_[idx], dtype=torch.float)"
   ]
  },
  {
   "cell_type": "code",
   "execution_count": 4,
   "metadata": {},
   "outputs": [],
   "source": [
    "class MatrixFactorization(torch.nn.Module):\n",
    "    \n",
    "    def __init__(self, n_users, n_items, n_factors):\n",
    "        super().__init__()\n",
    "        self.user_factors = torch.nn.Embedding(n_users, n_factors)\n",
    "        self.item_factors = torch.nn.Embedding(n_items, n_factors)\n",
    "        self.user_biases = torch.nn.Embedding(n_users, 1)\n",
    "        self.item_biases = torch.nn.Embedding(n_items,1)\n",
    "        torch.nn.init.xavier_uniform_(self.user_factors.weight)\n",
    "        torch.nn.init.xavier_uniform_(self.item_factors.weight)\n",
    "        self.user_biases.weight.data.fill_(0.)\n",
    "        self.item_biases.weight.data.fill_(0.)\n",
    "        \n",
    "    def forward(self, user, item):\n",
    "        pred = self.user_biases(user) + self.item_biases(item)\n",
    "        pred += (self.user_factors(user) * self.item_factors(item)).sum(1, keepdim=True)\n",
    "        return pred.squeeze()"
   ]
  },
  {
   "cell_type": "code",
   "execution_count": 5,
   "metadata": {},
   "outputs": [],
   "source": [
    "# def train_model(train_loader, test_loader, model, num_epochs=10):\n",
    "#     dev = torch.device(\"cuda\") if torch.cuda.is_available() else torch.device(\"cpu\")\n",
    "#     loss_func = torch.nn.MSELoss()\n",
    "#     model.to(dev)\n",
    "    \n",
    "#     train_losses = []\n",
    "#     test_losses = []\n",
    "#     for epoch in range(0,num_epochs):\n",
    "#         count = 0\n",
    "#         cum_loss = 0.\n",
    "#         for i, (train_batch, label_batch) in enumerate(train_loader):\n",
    "#             count = 1 + i\n",
    "#             # Predict and calculate loss for user factor and bias\n",
    "#             optimizer = torch.optim.SGD([model.user_biases.weight,model.user_factors.weight], lr=0.01, weight_decay=1e-5) # learning rate\n",
    "#             prediction = model(train_batch[:,0].to(dev), train_batch[:,1].to(dev))\n",
    "#             loss = loss_func(prediction, label_batch.to(dev)).float()    \n",
    "#             # Backpropagate\n",
    "#             loss.backward()\n",
    "\n",
    "#             # Update the parameters\n",
    "#             optimizer.step()\n",
    "#             optimizer.zero_grad()\n",
    "\n",
    "#             #predict and calculate loss for item factor and bias\n",
    "#             optimizer = torch.optim.SGD([model.item_biases.weight,model.item_factors.weight], lr=0.01, weight_decay=1e-5) # learning rate\n",
    "#             prediction = model(train_batch[:,0].to(dev), train_batch[:,1].to(dev))\n",
    "#             loss = loss_func(prediction, label_batch.to(dev))\n",
    "#             loss_item = loss.item()\n",
    "#             if loss_item > 0:\n",
    "#                 cum_loss += loss_item\n",
    "#             else:\n",
    "#                 count -= 1\n",
    "\n",
    "#             # Backpropagate\n",
    "#             loss.backward()\n",
    "\n",
    "#             # Update the parameters\n",
    "#             optimizer.step()\n",
    "#             optimizer.zero_grad()\n",
    "#         train_loss = cum_loss/count\n",
    "#         train_losses.append(train_loss)\n",
    "\n",
    "#         cum_loss =0.\n",
    "#         count = 0\n",
    "#         for i, (test_batch, label_batch) in enumerate(test_loader):\n",
    "#             count = 1 + i\n",
    "#             with torch.no_grad():\n",
    "#                 prediction = model(test_batch[:,0].to(dev), test_batch[:,1].to(dev))\n",
    "#                 loss = loss_func(prediction, label_batch.to(dev))\n",
    "#                 loss_item = loss.item()\n",
    "#                 if loss_item > 0:\n",
    "#                     cum_loss += loss_item\n",
    "#                 else:\n",
    "#                     count -= 1\n",
    "                \n",
    "#         test_loss = cum_loss/count\n",
    "#         test_losses.append(test_loss)\n",
    "#         if epoch % 24 == 0:\n",
    "#             print('epoch: ', epoch ,' avg training loss: ', train_loss, ' avg test loss: ',test_loss)\n",
    "#     return train_losses, test_losses, prediction\n"
   ]
  },
  {
   "cell_type": "code",
   "execution_count": 6,
   "metadata": {},
   "outputs": [],
   "source": [
    "# def model(data, img_name, n_factors=100, bs=100, num_epochs=100):\n",
    "#     train, test, drug_dict, target_dict = data_split(data)\n",
    "#     x_train, y_train = data_loader(train, drug_dict, target_dict)\n",
    "#     x_test, y_test = data_loader(test, drug_dict, target_dict)\n",
    "\n",
    "#     train_dataloader = DataLoader(RatingDataset(x_train, y_train), batch_size=bs, shuffle=True)\n",
    "#     test_dataloader = DataLoader(RatingDataset(x_test, y_test), batch_size=bs)\n",
    "\n",
    "#     model = MatrixFactorization(len(drug_dict), len(target_dict), n_factors=n_factors)\n",
    "\n",
    "#     train_losses, test_losses, preds_te = train_model(train_dataloader, test_dataloader, model, num_epochs)\n",
    "    \n",
    "#     epochs = range(1, num_epochs+1)\n",
    "#     plt.plot(epochs, train_losses, label='train')\n",
    "#     plt.plot(epochs, test_losses, label='test')\n",
    "#     plt.xlabel('epoch')\n",
    "#     plt.ylabel('mse loss')\n",
    "#     plt.legend()\n",
    "#     plt.title(img_name)\n",
    "#     plt.savefig(img_name)\n",
    "#     plt.show()\n",
    "    \n",
    "#     return train_losses, test_losses, preds_te"
   ]
  },
  {
   "cell_type": "code",
   "execution_count": 7,
   "metadata": {},
   "outputs": [],
   "source": [
    "def train_model(train_loader, test_loader, model, num_epochs=10):\n",
    "    dev = torch.device(\"cuda\") if torch.cuda.is_available() else torch.device(\"cpu\")\n",
    "    loss_func = torch.nn.MSELoss()\n",
    "    model.to(dev)\n",
    "    \n",
    "    train_losses = []\n",
    "    test_losses = []\n",
    "    for epoch in range(0,num_epochs):\n",
    "        count = 0\n",
    "        cum_loss = 0.\n",
    "        for i, (train_batch, label_batch) in enumerate(train_loader):\n",
    "            count = 1 + i\n",
    "            # Predict and calculate loss for user factor and bias\n",
    "            optimizer = torch.optim.SGD([model.user_biases.weight,model.user_factors.weight], lr=0.01, weight_decay=1e-5) # learning rate\n",
    "            prediction = model(train_batch[:,0].to(dev), train_batch[:,1].to(dev))\n",
    "            loss = loss_func(prediction, label_batch.to(dev)).float()    \n",
    "            # Backpropagate\n",
    "            loss.backward()\n",
    "\n",
    "            # Update the parameters\n",
    "            optimizer.step()\n",
    "            optimizer.zero_grad()\n",
    "\n",
    "            #predict and calculate loss for item factor and bias\n",
    "            optimizer = torch.optim.SGD([model.item_biases.weight,model.item_factors.weight], lr=0.01, weight_decay=1e-5) # learning rate\n",
    "            prediction = model(train_batch[:,0].to(dev), train_batch[:,1].to(dev))\n",
    "            loss = loss_func(prediction, label_batch.to(dev))\n",
    "            loss_item = loss.item()\n",
    "            if loss_item > 0:\n",
    "                cum_loss += loss_item\n",
    "            else:\n",
    "                count -= 1\n",
    "\n",
    "            # Backpropagate\n",
    "            loss.backward()\n",
    "\n",
    "            # Update the parameters\n",
    "            optimizer.step()\n",
    "            optimizer.zero_grad()\n",
    "        train_loss = cum_loss/count\n",
    "        train_losses.append(train_loss)\n",
    "\n",
    "        cum_loss =0.\n",
    "        count = 0\n",
    "        test_pred_record  = []\n",
    "        for i, (test_batch, label_batch) in enumerate(test_loader):\n",
    "            count = 1 + i\n",
    "            with torch.no_grad():\n",
    "                prediction = model(test_batch[:,0].to(dev), test_batch[:,1].to(dev))\n",
    "                loss = loss_func(prediction, label_batch.to(dev))\n",
    "                loss_item = loss.item()\n",
    "                if loss_item > 0:\n",
    "                    cum_loss += loss_item\n",
    "                else:\n",
    "                    count -= 1\n",
    "                \n",
    "            test_pred_record.append(prediction.data)\n",
    "                \n",
    "                \n",
    "        test_loss = cum_loss/count\n",
    "        test_losses.append(test_loss)\n",
    "        test_pred = torch.cat(test_pred_record)\n",
    "        \n",
    "        if epoch % 24 == 0:\n",
    "            print('epoch: ', epoch ,' avg training loss: ', train_loss, ' avg test loss: ',test_loss)\n",
    "    return train_losses, test_losses, test_pred\n"
   ]
  },
  {
   "cell_type": "code",
   "execution_count": 8,
   "metadata": {},
   "outputs": [],
   "source": [
    "def model(data, img_name, n_factors=100, bs=100, num_epochs=100):\n",
    "    train, test, drug_dict, target_dict = data_split(data)\n",
    "    x_train, y_train = data_loader(train, drug_dict, target_dict)\n",
    "    x_test, y_test = data_loader(test, drug_dict, target_dict)\n",
    "\n",
    "    train_dataloader = DataLoader(RatingDataset(x_train, y_train), batch_size=bs, shuffle=True)\n",
    "    test_dataloader = DataLoader(RatingDataset(x_test, y_test), batch_size=bs)\n",
    "\n",
    "    model = MatrixFactorization(len(drug_dict), len(target_dict), n_factors=n_factors)\n",
    "\n",
    "    train_losses, test_losses, preds_te = train_model(train_dataloader, test_dataloader, model, num_epochs)\n",
    "    \n",
    "    \n",
    "    epochs = range(1, num_epochs+1)\n",
    "    plt.plot(epochs, train_losses, label='train')\n",
    "    plt.plot(epochs, test_losses, label='test')\n",
    "    plt.xlabel('epoch')\n",
    "    plt.ylabel('mse loss')\n",
    "    plt.legend()\n",
    "    plt.title(img_name)\n",
    "    plt.savefig(img_name)\n",
    "    plt.show()\n",
    "    \n",
    "    preds_test = preds_te.cpu().numpy()\n",
    "    print('MAE:', mean_absolute_error(y_test,preds_test))\n",
    "    print('MSE:', mean_squared_error(y_test,preds_test))\n",
    "\n",
    "    return train_losses, test_losses, preds_test"
   ]
  },
  {
   "cell_type": "markdown",
   "metadata": {},
   "source": [
    "## Kd Dataset"
   ]
  },
  {
   "cell_type": "code",
   "execution_count": 9,
   "metadata": {
    "scrolled": false
   },
   "outputs": [
    {
     "name": "stdout",
     "output_type": "stream",
     "text": [
      "epoch:  0  avg training loss:  33.27620621699437  avg test loss:  28.065494319370814\n",
      "epoch:  24  avg training loss:  7.657278914360484  avg test loss:  4.670711387906755\n",
      "epoch:  48  avg training loss:  5.418553049397317  avg test loss:  3.3391931704112463\n",
      "epoch:  72  avg training loss:  4.184713618770527  avg test loss:  2.6219454876014163\n",
      "epoch:  96  avg training loss:  3.3839674273114295  avg test loss:  2.16434217606272\n"
     ]
    },
    {
     "data": {
      "image/png": "[encoded data removed]",
      "text/plain": [
       "<Figure size 432x288 with 1 Axes>"
      ]
     },
     "metadata": {
      "needs_background": "light"
     },
     "output_type": "display_data"
    },
    {
     "name": "stdout",
     "output_type": "stream",
     "text": [
      "MAE: 0.8879491209819841\n",
      "MSE: 2.120307170613062\n"
     ]
    }
   ],
   "source": [
    "train_losses_kd, test_losses_kd, prediction = model(data_Kd, 'Kd', bs=100, num_epochs=100)"
   ]
  },
  {
   "cell_type": "markdown",
   "metadata": {},
   "source": [
    "## IC50 Dataset"
   ]
  },
  {
   "cell_type": "code",
   "execution_count": 11,
   "metadata": {},
   "outputs": [
    {
     "name": "stdout",
     "output_type": "stream",
     "text": [
      "epoch:  0  avg training loss:  29.898213557384075  avg test loss:  20.63785596890803\n",
      "epoch:  24  avg training loss:  3.4014884248859185  avg test loss:  3.251790507083872\n",
      "epoch:  48  avg training loss:  2.3887071113955654  avg test loss:  2.428611657869443\n",
      "epoch:  72  avg training loss:  1.9904865814320076  avg test loss:  2.1052335692943056\n",
      "epoch:  96  avg training loss:  1.7576081573123092  avg test loss:  1.921304508851833\n"
     ]
    },
    {
     "data": {
      "image/png": "[encoded data removed]",
      "text/plain": [
       "<Figure size 432x288 with 1 Axes>"
      ]
     },
     "metadata": {
      "needs_background": "light"
     },
     "output_type": "display_data"
    },
    {
     "name": "stdout",
     "output_type": "stream",
     "text": [
      "MAE: 1.0522048888848272\n",
      "MSE: 1.9033970168281082\n"
     ]
    }
   ],
   "source": [
    "train_losses_ic50, test_losses_ic50, prediction_ic50 = model(data_ic50, 'ic50', n_factors=20, bs=100, num_epochs=100)"
   ]
  },
  {
   "cell_type": "markdown",
   "metadata": {},
   "source": [
    "## Ki Dataset"
   ]
  },
  {
   "cell_type": "code",
   "execution_count": 12,
   "metadata": {},
   "outputs": [
    {
     "name": "stdout",
     "output_type": "stream",
     "text": [
      "epoch:  0  avg training loss:  35.98049329856818  avg test loss:  24.99689169794684\n",
      "epoch:  24  avg training loss:  4.826385532976479  avg test loss:  4.320870063301675\n",
      "epoch:  48  avg training loss:  3.2873255112158355  avg test loss:  3.1059873871938786\n",
      "epoch:  72  avg training loss:  2.6328141439345574  avg test loss:  2.6007523449573853\n",
      "epoch:  96  avg training loss:  2.199006733714893  avg test loss:  2.2897938496366406\n"
     ]
    },
    {
     "data": {
      "image/png": "[encoded data removed]",
      "text/plain": [
       "<Figure size 432x288 with 1 Axes>"
      ]
     },
     "metadata": {
      "needs_background": "light"
     },
     "output_type": "display_data"
    },
    {
     "name": "stdout",
     "output_type": "stream",
     "text": [
      "MAE: 1.1456267553361936\n",
      "MSE: 2.257490137202597\n"
     ]
    }
   ],
   "source": [
    "train_losses_ki, test_losses_ki, prediction_ki = model(data_Ki, 'Ki', bs=100, num_epochs=100)"
   ]
  },
  {
   "cell_type": "markdown",
   "metadata": {},
   "source": [
    "#### grid search"
   ]
  },
  {
   "cell_type": "code",
   "execution_count": 13,
   "metadata": {},
   "outputs": [],
   "source": [
    "def train_model_hyp(train_loader, test_loader, model, num_epochs=10, lr=0.01, print_log = True):\n",
    "    dev = torch.device(\"cuda\") if torch.cuda.is_available() else torch.device(\"cpu\")\n",
    "    loss_func = torch.nn.MSELoss()\n",
    "    model.to(dev)\n",
    "    \n",
    "    train_losses = []\n",
    "    test_losses = []\n",
    "    for epoch in range(0,num_epochs):\n",
    "        count = 0\n",
    "        cum_loss = 0.\n",
    "        for i, (train_batch, label_batch) in enumerate(train_loader):\n",
    "            count = 1 + i\n",
    "            # Predict and calculate loss for user factor and bias\n",
    "            optimizer = torch.optim.SGD([model.user_biases.weight,model.user_factors.weight], lr=lr, weight_decay=1e-5) # learning rate\n",
    "            prediction = model(train_batch[:,0].to(dev), train_batch[:,1].to(dev))\n",
    "            loss = loss_func(prediction, label_batch.to(dev)).float()    \n",
    "            # Backpropagate\n",
    "            loss.backward()\n",
    "\n",
    "            # Update the parameters\n",
    "            optimizer.step()\n",
    "            optimizer.zero_grad()\n",
    "\n",
    "            #predict and calculate loss for item factor and bias\n",
    "            optimizer = torch.optim.SGD([model.item_biases.weight,model.item_factors.weight], lr=lr, weight_decay=1e-5) # learning rate\n",
    "            prediction = model(train_batch[:,0].to(dev), train_batch[:,1].to(dev))\n",
    "            loss = loss_func(prediction, label_batch.to(dev))\n",
    "            loss_item = loss.item()\n",
    "            if loss_item > 0:\n",
    "                cum_loss += loss_item\n",
    "            else:\n",
    "                count -= 1\n",
    "\n",
    "            # Backpropagate\n",
    "            loss.backward()\n",
    "\n",
    "            # Update the parameters\n",
    "            optimizer.step()\n",
    "            optimizer.zero_grad()\n",
    "        train_loss = cum_loss/count\n",
    "        train_losses.append(train_loss)\n",
    "\n",
    "        cum_loss =0.\n",
    "        count = 0\n",
    "        test_pred_record  = []\n",
    "        for i, (test_batch, label_batch) in enumerate(test_loader):\n",
    "            count = 1 + i\n",
    "            with torch.no_grad():\n",
    "                prediction = model(test_batch[:,0].to(dev), test_batch[:,1].to(dev))\n",
    "                loss = loss_func(prediction, label_batch.to(dev))\n",
    "                loss_item = loss.item()\n",
    "                if loss_item > 0:\n",
    "                    cum_loss += loss_item\n",
    "                else:\n",
    "                    count -= 1\n",
    "            test_pred_record.append(prediction.data)\n",
    "                \n",
    "        test_loss = cum_loss/count\n",
    "        test_losses.append(test_loss)\n",
    "        test_pred = torch.cat(test_pred_record)\n",
    "        \n",
    "        if (epoch % 20 == 0)&print_log:\n",
    "            print('epoch: ', epoch ,' avg training loss: ', train_loss, ' avg test loss: ',test_loss)\n",
    "    return train_losses, test_losses, test_pred\n"
   ]
  },
  {
   "cell_type": "code",
   "execution_count": 14,
   "metadata": {},
   "outputs": [],
   "source": [
    "def model_hyp(data, img_name, n_factors=100, bs=100, num_epochs=100, lr=0.01, print_log = True):\n",
    "    train, test, drug_dict, target_dict = data_split(data)\n",
    "    x_train, y_train = data_loader(train, drug_dict, target_dict)\n",
    "    x_test, y_test = data_loader(test, drug_dict, target_dict)\n",
    "\n",
    "    train_dataloader = DataLoader(RatingDataset(x_train, y_train), batch_size=bs, shuffle=True)\n",
    "    test_dataloader = DataLoader(RatingDataset(x_test, y_test), batch_size=bs)\n",
    "\n",
    "    model = MatrixFactorization(len(drug_dict), len(target_dict), n_factors=n_factors)\n",
    "\n",
    "    train_losses, test_losses, preds_te = train_model_hyp(train_dataloader, test_dataloader, model, num_epochs, lr=lr, print_log = print_log)\n",
    "    \n",
    "    preds_test = preds_te.cpu().numpy()\n",
    "    MAE_te = mean_absolute_error(y_test,preds_test)\n",
    "    MSE_te = mean_squared_error(y_test,preds_test)\n",
    "    print('MAE:', MAE_te)\n",
    "    print('MSE:', MSE_te)\n",
    "    \n",
    "    return train_losses, test_losses , MAE_te, MSE_te\n",
    "\n",
    "\n",
    "def plotting(train_losses, test_losses, train_tuned, test_tuned, title = \"\"):\n",
    "    epochs = range(1, len(train_losses)+1)\n",
    "    plt.plot(epochs, train_losses, label='train')\n",
    "    plt.plot(epochs, train_tuned, label='train_tuned')\n",
    "    plt.plot(epochs, test_losses, label='test')\n",
    "    plt.plot(epochs, test_tuned, label='test_tuned')\n",
    "    plt.xlabel('epoch')\n",
    "    plt.ylabel('mse loss')\n",
    "    plt.legend()\n",
    "    plt.title(title)\n",
    "    plt.savefig(title)\n",
    "    plt.show()"
   ]
  },
  {
   "cell_type": "code",
   "execution_count": 15,
   "metadata": {},
   "outputs": [],
   "source": [
    "def grid_search(data, img_name, learning_rate=[], n_factors=[]):\n",
    "        \n",
    "    times = 0\n",
    "    records = []\n",
    "    MAE_records = []\n",
    "    MSE_records = []\n",
    "    for lr in learning_rate:\n",
    "        for nf in n_factors:\n",
    "            times += 1\n",
    "            print(\"hyperparameters\",times)\n",
    "            print(\"The learning rate =\",lr)\n",
    "            print(\"Number of factors =\",nf)\n",
    "            \n",
    "            train_tuned, test_tuned, MAE_test, MSE_test = model_hyp(data, img_name, n_factors=nf, bs=100, \n",
    "                                                                    num_epochs=100, lr=lr, print_log = False)\n",
    "            record = {'learning_rate':lr, 'n_factors':nf}\n",
    "            MAE_records.append(MAE_test)\n",
    "            MSE_records.append(MSE_test)\n",
    "            records.append(record)\n",
    "    \n",
    "    best_param_dict = records[MSE_records.index(min(MSE_records))]\n",
    "    \n",
    "#     train_tuned, test_tuned, MAE_test, MSE_test = model_hyp(data, img_name, n_factors=best_param_dict['n_factors'], \n",
    "#                                                             bs=100, num_epochs=100, lr=best_param_dict['learning_rate'])\n",
    "#     plotting(train_losses, test_losses, train_tuned, test_tuned, title = img_name) \n",
    "    \n",
    "    print(\"Done\")\n",
    "    return best_param_dict\n"
   ]
  },
  {
   "cell_type": "markdown",
   "metadata": {},
   "source": [
    "## Kd Dataset"
   ]
  },
  {
   "cell_type": "code",
   "execution_count": 16,
   "metadata": {
    "scrolled": true
   },
   "outputs": [
    {
     "name": "stdout",
     "output_type": "stream",
     "text": [
      "hyperparameters 1\n",
      "The learning rate = 0.05\n",
      "Number of factors = 20\n",
      "MAE: 0.5940586460222255\n",
      "MSE: 0.9146625233900683\n",
      "hyperparameters 2\n",
      "The learning rate = 0.05\n",
      "Number of factors = 50\n",
      "MAE: 0.5919945244297432\n",
      "MSE: 0.9282307629865992\n",
      "hyperparameters 3\n",
      "The learning rate = 0.05\n",
      "Number of factors = 80\n",
      "MAE: 0.5862734833419367\n",
      "MSE: 0.9247558985344685\n",
      "hyperparameters 4\n",
      "The learning rate = 0.04\n",
      "Number of factors = 20\n",
      "MAE: 0.6182846652606984\n",
      "MSE: 0.9899357109888273\n",
      "hyperparameters 5\n",
      "The learning rate = 0.04\n",
      "Number of factors = 50\n",
      "MAE: 0.6056445507934018\n",
      "MSE: 0.9753631941312014\n",
      "hyperparameters 6\n",
      "The learning rate = 0.04\n",
      "Number of factors = 80\n",
      "MAE: 0.6022910802502073\n",
      "MSE: 0.975479304485356\n",
      "hyperparameters 7\n",
      "The learning rate = 0.03\n",
      "Number of factors = 20\n",
      "MAE: 0.6631240929625134\n",
      "MSE: 1.136277372255491\n",
      "hyperparameters 8\n",
      "The learning rate = 0.03\n",
      "Number of factors = 50\n",
      "MAE: 0.6486639747395012\n",
      "MSE: 1.1104044759690912\n",
      "hyperparameters 9\n",
      "The learning rate = 0.03\n",
      "Number of factors = 80\n",
      "MAE: 0.644015298781117\n",
      "MSE: 1.1052018644115642\n",
      "Done\n"
     ]
    }
   ],
   "source": [
    "bestParamDict_kd = grid_search(data_Kd, 'Kd', learning_rate=[0.05,0.04,0.03], n_factors=[20,50,80])"
   ]
  },
  {
   "cell_type": "markdown",
   "metadata": {},
   "source": [
    "### compare results\n",
    "\n",
    "| num_epochs | learning_rate | n_factors | MAE | MSE \n",
    "|:-:|:-:|:-:|:-:|:-:|\n",
    "| 100 | 0.05 | 20 | 0.594 | 0.914 |\n",
    "| 100 | 0.05 | 50 | 0.591 | 0.928 |\n",
    "| 100 | 0.05 | 80 | 0.586 | 0.924 |\n",
    "| 100 | 0.04 | 20 | 0.618 | 0.989 |\n",
    "| 100 | 0.04 | 50 | 0.605 | 0.975 |\n",
    "| 100 | 0.04 | 80 | 0.602 | 0.975 |\n",
    "| 100 | 0.03 | 20 | 0.663 | 1.136 |\n",
    "| 100 | 0.03 | 50 | 0.648 | 1.110 |\n",
    "| 100 | 0.03 | 80 | 0.644 | 1.105 |\n"
   ]
  },
  {
   "cell_type": "code",
   "execution_count": 17,
   "metadata": {},
   "outputs": [
    {
     "name": "stdout",
     "output_type": "stream",
     "text": [
      "epoch:  0  avg training loss:  25.06616585421714  avg test loss:  13.918415117263795\n",
      "epoch:  20  avg training loss:  3.3965966610392186  avg test loss:  2.145293902499335\n",
      "epoch:  40  avg training loss:  1.9590886694610499  avg test loss:  1.4000545501708985\n",
      "epoch:  60  avg training loss:  1.3528272017931482  avg test loss:  1.1223614315901485\n",
      "epoch:  80  avg training loss:  0.990898028965209  avg test loss:  0.9814478697521346\n",
      "MAE: 0.5947019407845896\n",
      "MSE: 0.9192912633699928\n"
     ]
    },
    {
     "data": {
      "image/png": "[encoded data removed]",
      "text/plain": [
       "<Figure size 432x288 with 1 Axes>"
      ]
     },
     "metadata": {
      "needs_background": "light"
     },
     "output_type": "display_data"
    }
   ],
   "source": [
    "train_tuned_kd, test_tuned_kd, MAE_test_kd, MSE_test_kd = model_hyp(data_Kd, 'Kd', n_factors=bestParamDict_kd['n_factors'], \n",
    "                                                        bs=100, num_epochs=100, lr=bestParamDict_kd['learning_rate'])\n",
    "plotting(train_losses_kd, test_losses_kd, train_tuned_kd, test_tuned_kd, title = 'Kd') \n"
   ]
  },
  {
   "cell_type": "markdown",
   "metadata": {},
   "source": [
    "## IC50 Dataset"
   ]
  },
  {
   "cell_type": "code",
   "execution_count": 18,
   "metadata": {
    "scrolled": false
   },
   "outputs": [
    {
     "name": "stdout",
     "output_type": "stream",
     "text": [
      "hyperparameters 1\n",
      "The learning rate = 0.05\n",
      "Number of factors = 20\n",
      "MAE: 0.8152408600073012\n",
      "MSE: 1.199767927875004\n",
      "hyperparameters 2\n",
      "The learning rate = 0.05\n",
      "Number of factors = 50\n",
      "MAE: 0.8099203689109866\n",
      "MSE: 1.1883523094840724\n",
      "hyperparameters 3\n",
      "The learning rate = 0.05\n",
      "Number of factors = 80\n",
      "MAE: 0.8080587187156364\n",
      "MSE: 1.1847756970652794\n",
      "hyperparameters 4\n",
      "The learning rate = 0.04\n",
      "Number of factors = 20\n",
      "MAE: 0.8326960429858643\n",
      "MSE: 1.2348750541441789\n",
      "hyperparameters 5\n",
      "The learning rate = 0.04\n",
      "Number of factors = 50\n",
      "MAE: 0.8285938434264337\n",
      "MSE: 1.228247503188113\n",
      "hyperparameters 6\n",
      "The learning rate = 0.04\n",
      "Number of factors = 80\n",
      "MAE: 0.8264884411346098\n",
      "MSE: 1.2255676236428237\n",
      "hyperparameters 7\n",
      "The learning rate = 0.03\n",
      "Number of factors = 20\n",
      "MAE: 0.8735310659540519\n",
      "MSE: 1.3296253451938436\n",
      "hyperparameters 8\n",
      "The learning rate = 0.03\n",
      "Number of factors = 50\n",
      "MAE: 0.8626468556269834\n",
      "MSE: 1.3075614078327968\n",
      "hyperparameters 9\n",
      "The learning rate = 0.03\n",
      "Number of factors = 80\n",
      "MAE: 0.8584859028230816\n",
      "MSE: 1.2984199844860604\n",
      "Done\n"
     ]
    }
   ],
   "source": [
    "bestParamDict_ic50 = grid_search(data_ic50, 'ic50', learning_rate=[0.05,0.04,0.03], n_factors=[20,50,80])"
   ]
  },
  {
   "cell_type": "markdown",
   "metadata": {},
   "source": [
    "### compare results\n",
    "\n",
    "| num_epochs | learning_rate | n_factors | MAE | MSE \n",
    "|:-:|:-:|:-:|:-:|:-:|\n",
    "| 100 | 0.05 | 20 | 0.815 | 1.199 |\n",
    "| 100 | 0.05 | 50 | 0.509 | 1.188 |\n",
    "| 100 | 0.05 | 80 | 0.808 | 1.184 |\n",
    "| 100 | 0.04 | 20 | 0.832 | 1.234 |\n",
    "| 100 | 0.04 | 50 | 0.828 | 1.228 |\n",
    "| 100 | 0.04 | 80 | 0.826 | 1.225 |\n",
    "| 100 | 0.03 | 20 | 0.873 | 1.329 |\n",
    "| 100 | 0.03 | 50 | 0.862 | 1.307 |\n",
    "| 100 | 0.03 | 80 | 0.858 | 1.298 |\n",
    "\n"
   ]
  },
  {
   "cell_type": "code",
   "execution_count": 19,
   "metadata": {
    "scrolled": false
   },
   "outputs": [
    {
     "name": "stdout",
     "output_type": "stream",
     "text": [
      "epoch:  0  avg training loss:  16.728516373008436  avg test loss:  8.255310835975726\n",
      "epoch:  20  avg training loss:  1.6717639065776662  avg test loss:  1.862377304887567\n",
      "epoch:  40  avg training loss:  0.9161142297006863  avg test loss:  1.4615746198951796\n",
      "epoch:  60  avg training loss:  0.5415068870591558  avg test loss:  1.2948664044179046\n",
      "epoch:  80  avg training loss:  0.3621992944006119  avg test loss:  1.2211129769162121\n",
      "MAE: 0.8086389562518336\n",
      "MSE: 1.1852732920695477\n"
     ]
    },
    {
     "data": {
      "image/png": "[encoded data removed]",
      "text/plain": [
       "<Figure size 432x288 with 1 Axes>"
      ]
     },
     "metadata": {
      "needs_background": "light"
     },
     "output_type": "display_data"
    }
   ],
   "source": [
    "train_tuned_ic50, test_tuned_ic50, MAE_test_ic50, MSE_test_ic50 = model_hyp(data_ic50, 'ic50', n_factors=bestParamDict_ic50['n_factors'], \n",
    "                                                        bs=100, num_epochs=100, lr=bestParamDict_ic50['learning_rate'])\n",
    "plotting(train_losses_ic50, test_losses_ic50, train_tuned_ic50, test_tuned_ic50, title = 'IC50') \n"
   ]
  },
  {
   "cell_type": "markdown",
   "metadata": {},
   "source": [
    "## Ki Dataset"
   ]
  },
  {
   "cell_type": "code",
   "execution_count": 20,
   "metadata": {
    "scrolled": false
   },
   "outputs": [
    {
     "name": "stdout",
     "output_type": "stream",
     "text": [
      "hyperparameters 1\n",
      "The learning rate = 0.05\n",
      "Number of factors = 20\n",
      "MAE: 0.8451301811434262\n",
      "MSE: 1.2761484988183374\n",
      "hyperparameters 2\n",
      "The learning rate = 0.05\n",
      "Number of factors = 50\n",
      "MAE: 0.8338658423659151\n",
      "MSE: 1.2449440963941099\n",
      "hyperparameters 3\n",
      "The learning rate = 0.05\n",
      "Number of factors = 80\n",
      "MAE: 0.8309797740717654\n",
      "MSE: 1.2372426130571899\n",
      "hyperparameters 4\n",
      "The learning rate = 0.04\n",
      "Number of factors = 20\n",
      "MAE: 0.868901145929371\n",
      "MSE: 1.3360369422850857\n",
      "hyperparameters 5\n",
      "The learning rate = 0.04\n",
      "Number of factors = 50\n",
      "MAE: 0.8575869222980832\n",
      "MSE: 1.307815804299884\n",
      "hyperparameters 6\n",
      "The learning rate = 0.04\n",
      "Number of factors = 80\n",
      "MAE: 0.8519859096717989\n",
      "MSE: 1.2966000956726529\n",
      "hyperparameters 7\n",
      "The learning rate = 0.03\n",
      "Number of factors = 20\n",
      "MAE: 0.9166242619181283\n",
      "MSE: 1.4599796784104835\n",
      "hyperparameters 8\n",
      "The learning rate = 0.03\n",
      "Number of factors = 50\n",
      "MAE: 0.9009264431262153\n",
      "MSE: 1.4222735712296735\n",
      "hyperparameters 9\n",
      "The learning rate = 0.03\n",
      "Number of factors = 80\n",
      "MAE: 0.8956840802361469\n",
      "MSE: 1.4139939622939728\n",
      "Done\n"
     ]
    }
   ],
   "source": [
    "bestParamDict_iki = grid_search(data_Ki, 'Ki', learning_rate=[0.05,0.04,0.03], n_factors=[20,50,80])"
   ]
  },
  {
   "cell_type": "markdown",
   "metadata": {},
   "source": [
    "### compare results\n",
    "\n",
    "| num_epochs | learning_rate | n_factors | MAE | MSE \n",
    "|:-:|:-:|:-:|:-:|:-:|\n",
    "| 100 | 0.05 | 20 | 0.845 | 1.276 |\n",
    "| 100 | 0.05 | 50 | 0.833 | 1.244 |\n",
    "| 100 | 0.05 | 80 | 0.830 | 1.237 |\n",
    "| 100 | 0.04 | 20 | 0.868 | 1.336 |\n",
    "| 100 | 0.04 | 50 | 0.857 | 1.307 |\n",
    "| 100 | 0.04 | 80 | 0.851 | 1.296 |\n",
    "| 100 | 0.03 | 20 | 0.916 | 1.459 |\n",
    "| 100 | 0.03 | 20 | 0.901 | 1.422 |\n",
    "| 100 | 0.03 | 50 | 0.895 | 1.413 |\n"
   ]
  },
  {
   "cell_type": "code",
   "execution_count": 22,
   "metadata": {
    "scrolled": false
   },
   "outputs": [
    {
     "name": "stdout",
     "output_type": "stream",
     "text": [
      "epoch:  0  avg training loss:  21.184483693492027  avg test loss:  10.719505175847324\n",
      "epoch:  20  avg training loss:  2.127403463567457  avg test loss:  2.214898727743487\n",
      "epoch:  40  avg training loss:  1.0949460777010114  avg test loss:  1.6366911032848332\n",
      "epoch:  60  avg training loss:  0.6325091868171662  avg test loss:  1.401989162855445\n",
      "epoch:  80  avg training loss:  0.40219196903195537  avg test loss:  1.2962322427068254\n",
      "MAE: 0.8334653527993775\n",
      "MSE: 1.2441245982358216\n"
     ]
    },
    {
     "data": {
      "image/png": "[encoded data removed]",
      "text/plain": [
       "<Figure size 432x288 with 1 Axes>"
      ]
     },
     "metadata": {
      "needs_background": "light"
     },
     "output_type": "display_data"
    }
   ],
   "source": [
    "train_tuned_ki, test_tuned_ki, MAE_test_ki, MSE_test_ki = model_hyp(data_Ki, 'Ki', n_factors=bestParamDict_iki['n_factors'], \n",
    "                                                        bs=100, num_epochs=100, lr=bestParamDict_iki['learning_rate'])\n",
    "plotting(train_losses_ki, test_losses_ki, train_tuned_ki, test_tuned_ki, title = 'Ki') \n"
   ]
  },
  {
   "cell_type": "code",
   "execution_count": null,
   "metadata": {},
   "outputs": [],
   "source": []
  }
 ],
 "metadata": {
  "kernelspec": {
   "display_name": "Python 3",
   "language": "python",
   "name": "python3"
  },
  "language_info": {
   "codemirror_mode": {
    "name": "ipython",
    "version": 3
   },
   "file_extension": ".py",
   "mimetype": "text/x-python",
   "name": "python",
   "nbconvert_exporter": "python",
   "pygments_lexer": "ipython3",
   "version": "3.8.5"
  }
 },
 "nbformat": 4,
 "nbformat_minor": 4
}
