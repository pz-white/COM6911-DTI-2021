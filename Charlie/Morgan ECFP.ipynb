{
 "cells": [
  {
   "cell_type": "code",
   "execution_count": 1,
   "metadata": {},
   "outputs": [
    {
     "name": "stderr",
     "output_type": "stream",
     "text": [
      "Found local copy...\n",
      "Loading...\n",
      "Done!\n"
     ]
    }
   ],
   "source": [
    "from tdc.multi_pred import DTI\n",
    "data = DTI(name = 'BindingDB_Kd')\n",
    "# data = DTI(name = 'DAVIS')\n",
    "# data = DTI(name = 'KIBA')"
   ]
  },
  {
   "cell_type": "code",
   "execution_count": 2,
   "metadata": {},
   "outputs": [],
   "source": [
    "splited_data = data.get_split(method = 'random', seed = 42, frac = [0.78, 0.02, 0.2])"
   ]
  },
  {
   "cell_type": "code",
   "execution_count": 3,
   "metadata": {},
   "outputs": [
    {
     "name": "stdout",
     "output_type": "stream",
     "text": [
      "type(data):  <class 'tdc.multi_pred.dataloader.DTI'>\n",
      "type(splited_data):  <class 'dict'>\n",
      "len(splited_data):  3\n",
      "splited_data.keys():  dict_keys(['train', 'valid', 'test'])\n"
     ]
    }
   ],
   "source": [
    "print(\"type(data): \",type(data))\n",
    "print(\"type(splited_data): \",type(splited_data))\n",
    "print(\"len(splited_data): \",len(splited_data))\n",
    "# three data set\n",
    "print(\"splited_data.keys(): \",splited_data.keys())"
   ]
  },
  {
   "cell_type": "code",
   "execution_count": 4,
   "metadata": {},
   "outputs": [
    {
     "name": "stdout",
     "output_type": "stream",
     "text": [
      "Drug_ID      40774\n",
      "Drug         40774\n",
      "Target_ID    37400\n",
      "Target       40774\n",
      "Y            40774\n",
      "dtype: int64\n"
     ]
    },
    {
     "data": {
      "text/html": [
       "<div>\n",
       "<style scoped>\n",
       "    .dataframe tbody tr th:only-of-type {\n",
       "        vertical-align: middle;\n",
       "    }\n",
       "\n",
       "    .dataframe tbody tr th {\n",
       "        vertical-align: top;\n",
       "    }\n",
       "\n",
       "    .dataframe thead th {\n",
       "        text-align: right;\n",
       "    }\n",
       "</style>\n",
       "<table border=\"1\" class=\"dataframe\">\n",
       "  <thead>\n",
       "    <tr style=\"text-align: right;\">\n",
       "      <th></th>\n",
       "      <th>Drug_ID</th>\n",
       "      <th>Drug</th>\n",
       "      <th>Target_ID</th>\n",
       "      <th>Target</th>\n",
       "      <th>Y</th>\n",
       "    </tr>\n",
       "  </thead>\n",
       "  <tbody>\n",
       "    <tr>\n",
       "      <th>0</th>\n",
       "      <td>444607.0</td>\n",
       "      <td>Cc1ccc(CNS(=O)(=O)c2ccc(S(N)(=O)=O)s2)cc1</td>\n",
       "      <td>P00918</td>\n",
       "      <td>MSHHWGYGKHNGPEHWHKDFPIAKGERQSPVDIDTHTAKYDPSLKP...</td>\n",
       "      <td>0.46</td>\n",
       "    </tr>\n",
       "    <tr>\n",
       "      <th>1</th>\n",
       "      <td>4316.0</td>\n",
       "      <td>COc1ccc(CNS(=O)(=O)c2ccc(S(N)(=O)=O)s2)cc1</td>\n",
       "      <td>P00918</td>\n",
       "      <td>MSHHWGYGKHNGPEHWHKDFPIAKGERQSPVDIDTHTAKYDPSLKP...</td>\n",
       "      <td>0.49</td>\n",
       "    </tr>\n",
       "    <tr>\n",
       "      <th>2</th>\n",
       "      <td>4293.0</td>\n",
       "      <td>NS(=O)(=O)c1ccc(S(=O)(=O)NCc2cccs2)s1</td>\n",
       "      <td>P00918</td>\n",
       "      <td>MSHHWGYGKHNGPEHWHKDFPIAKGERQSPVDIDTHTAKYDPSLKP...</td>\n",
       "      <td>0.83</td>\n",
       "    </tr>\n",
       "    <tr>\n",
       "      <th>3</th>\n",
       "      <td>1611.0</td>\n",
       "      <td>NS(=O)(=O)c1cc2c(s1)S(=O)(=O)N(Cc1cccs1)CC2O</td>\n",
       "      <td>P00918</td>\n",
       "      <td>MSHHWGYGKHNGPEHWHKDFPIAKGERQSPVDIDTHTAKYDPSLKP...</td>\n",
       "      <td>0.20</td>\n",
       "    </tr>\n",
       "    <tr>\n",
       "      <th>4</th>\n",
       "      <td>4369102.0</td>\n",
       "      <td>CCN[C@H]1CN(CCOC)S(=O)(=O)c2sc(S(N)(=O)=O)cc21</td>\n",
       "      <td>P00918</td>\n",
       "      <td>MSHHWGYGKHNGPEHWHKDFPIAKGERQSPVDIDTHTAKYDPSLKP...</td>\n",
       "      <td>0.32</td>\n",
       "    </tr>\n",
       "  </tbody>\n",
       "</table>\n",
       "</div>"
      ],
      "text/plain": [
       "     Drug_ID                                            Drug Target_ID  \\\n",
       "0   444607.0       Cc1ccc(CNS(=O)(=O)c2ccc(S(N)(=O)=O)s2)cc1    P00918   \n",
       "1     4316.0      COc1ccc(CNS(=O)(=O)c2ccc(S(N)(=O)=O)s2)cc1    P00918   \n",
       "2     4293.0           NS(=O)(=O)c1ccc(S(=O)(=O)NCc2cccs2)s1    P00918   \n",
       "3     1611.0    NS(=O)(=O)c1cc2c(s1)S(=O)(=O)N(Cc1cccs1)CC2O    P00918   \n",
       "4  4369102.0  CCN[C@H]1CN(CCOC)S(=O)(=O)c2sc(S(N)(=O)=O)cc21    P00918   \n",
       "\n",
       "                                              Target     Y  \n",
       "0  MSHHWGYGKHNGPEHWHKDFPIAKGERQSPVDIDTHTAKYDPSLKP...  0.46  \n",
       "1  MSHHWGYGKHNGPEHWHKDFPIAKGERQSPVDIDTHTAKYDPSLKP...  0.49  \n",
       "2  MSHHWGYGKHNGPEHWHKDFPIAKGERQSPVDIDTHTAKYDPSLKP...  0.83  \n",
       "3  MSHHWGYGKHNGPEHWHKDFPIAKGERQSPVDIDTHTAKYDPSLKP...  0.20  \n",
       "4  MSHHWGYGKHNGPEHWHKDFPIAKGERQSPVDIDTHTAKYDPSLKP...  0.32  "
      ]
     },
     "execution_count": 4,
     "metadata": {},
     "output_type": "execute_result"
    }
   ],
   "source": [
    "train = splited_data['train']\n",
    "print(train.count())\n",
    "train.head()"
   ]
  },
  {
   "cell_type": "code",
   "execution_count": 5,
   "metadata": {},
   "outputs": [],
   "source": [
    "train_selected = train[['Drug','Target']]\n",
    "train_selected['Drug_vector'] = ''"
   ]
  },
  {
   "cell_type": "code",
   "execution_count": 6,
   "metadata": {},
   "outputs": [
    {
     "data": {
      "image/png": "[encoded data removed]",
      "text/plain": [
       "<rdkit.Chem.rdchem.Mol at 0x14e219e8940>"
      ]
     },
     "execution_count": 6,
     "metadata": {},
     "output_type": "execute_result"
    }
   ],
   "source": [
    "from rdkit import Chem\n",
    "import numpy as np\n",
    "m = Chem.MolFromSmiles('C1=CC2=C(C=C1)C1=CC=CC=C21')\n",
    "def add_atom_index(mol):\n",
    "    atoms = mol.GetNumAtoms()\n",
    "    for i in range( atoms ):\n",
    "        mol.GetAtomWithIdx(i).SetProp(\n",
    "            'molAtomMapNumber', str(mol.GetAtomWithIdx(i).GetIdx()))\n",
    "    return mol\n",
    "add_atom_index(m)"
   ]
  },
  {
   "cell_type": "code",
   "execution_count": 7,
   "metadata": {},
   "outputs": [
    {
     "data": {
      "text/html": [
       "<div>\n",
       "<style scoped>\n",
       "    .dataframe tbody tr th:only-of-type {\n",
       "        vertical-align: middle;\n",
       "    }\n",
       "\n",
       "    .dataframe tbody tr th {\n",
       "        vertical-align: top;\n",
       "    }\n",
       "\n",
       "    .dataframe thead th {\n",
       "        text-align: right;\n",
       "    }\n",
       "</style>\n",
       "<table border=\"1\" class=\"dataframe\">\n",
       "  <thead>\n",
       "    <tr style=\"text-align: right;\">\n",
       "      <th></th>\n",
       "      <th>Drug</th>\n",
       "      <th>Target</th>\n",
       "      <th>Drug_vector</th>\n",
       "    </tr>\n",
       "  </thead>\n",
       "  <tbody>\n",
       "    <tr>\n",
       "      <th>0</th>\n",
       "      <td>Cc1ccc(CNS(=O)(=O)c2ccc(S(N)(=O)=O)s2)cc1</td>\n",
       "      <td>MSHHWGYGKHNGPEHWHKDFPIAKGERQSPVDIDTHTAKYDPSLKP...</td>\n",
       "      <td>[0, 0, 0, 0, 0, 0, 0, 0, 0, 0, 0, 0, 0, 0, 0, ...</td>\n",
       "    </tr>\n",
       "    <tr>\n",
       "      <th>1</th>\n",
       "      <td>COc1ccc(CNS(=O)(=O)c2ccc(S(N)(=O)=O)s2)cc1</td>\n",
       "      <td>MSHHWGYGKHNGPEHWHKDFPIAKGERQSPVDIDTHTAKYDPSLKP...</td>\n",
       "      <td>[0, 0, 0, 0, 0, 0, 0, 0, 0, 0, 0, 0, 0, 0, 0, ...</td>\n",
       "    </tr>\n",
       "    <tr>\n",
       "      <th>2</th>\n",
       "      <td>NS(=O)(=O)c1ccc(S(=O)(=O)NCc2cccs2)s1</td>\n",
       "      <td>MSHHWGYGKHNGPEHWHKDFPIAKGERQSPVDIDTHTAKYDPSLKP...</td>\n",
       "      <td>[0, 0, 0, 0, 0, 0, 0, 0, 0, 0, 0, 0, 0, 0, 1, ...</td>\n",
       "    </tr>\n",
       "    <tr>\n",
       "      <th>3</th>\n",
       "      <td>NS(=O)(=O)c1cc2c(s1)S(=O)(=O)N(Cc1cccs1)CC2O</td>\n",
       "      <td>MSHHWGYGKHNGPEHWHKDFPIAKGERQSPVDIDTHTAKYDPSLKP...</td>\n",
       "      <td>[0, 0, 0, 0, 0, 0, 0, 0, 0, 0, 0, 0, 0, 0, 1, ...</td>\n",
       "    </tr>\n",
       "    <tr>\n",
       "      <th>4</th>\n",
       "      <td>CCN[C@H]1CN(CCOC)S(=O)(=O)c2sc(S(N)(=O)=O)cc21</td>\n",
       "      <td>MSHHWGYGKHNGPEHWHKDFPIAKGERQSPVDIDTHTAKYDPSLKP...</td>\n",
       "      <td>[0, 0, 0, 0, 0, 0, 0, 0, 0, 0, 0, 0, 0, 1, 0, ...</td>\n",
       "    </tr>\n",
       "    <tr>\n",
       "      <th>...</th>\n",
       "      <td>...</td>\n",
       "      <td>...</td>\n",
       "      <td>...</td>\n",
       "    </tr>\n",
       "    <tr>\n",
       "      <th>40769</th>\n",
       "      <td>COc1cc(C(=O)O)ccc1NC(=O)[C@@H]1N[C@@H](CC(C)(C...</td>\n",
       "      <td>MCNTNMSVPTDGAVTTSQIPASEQETLVRPKPLLLKLLKSVGAQKD...</td>\n",
       "      <td>[0, 0, 0, 0, 0, 0, 0, 0, 0, 0, 0, 0, 0, 0, 0, ...</td>\n",
       "    </tr>\n",
       "    <tr>\n",
       "      <th>40770</th>\n",
       "      <td>CC(C)(C)C[C@@H]1N[C@@H](C(=O)N[C@H]2CC[C@H](O)...</td>\n",
       "      <td>MCNTNMSVPTDGAVTTSQIPASEQETLVRPKPLLLKLLKSVGAQKD...</td>\n",
       "      <td>[0, 0, 0, 0, 0, 0, 0, 0, 0, 1, 0, 0, 0, 0, 0, ...</td>\n",
       "    </tr>\n",
       "    <tr>\n",
       "      <th>40771</th>\n",
       "      <td>CC(C)[C@@H](CS(=O)(=O)C(C)C)N1C(=O)[C@@](C)(CC...</td>\n",
       "      <td>MCNTNMSVPTDGAVTTSQIPASEQETLVRPKPLLLKLLKSVGAQKD...</td>\n",
       "      <td>[0, 1, 0, 0, 0, 0, 0, 0, 0, 0, 0, 0, 0, 0, 0, ...</td>\n",
       "    </tr>\n",
       "    <tr>\n",
       "      <th>40772</th>\n",
       "      <td>CCCCCCCOC1OC(CO)C(O)C(O)C1O</td>\n",
       "      <td>MKRVITLFAVLLMGWSVNAWSFACKTANGTAIPIGGGSANVYVNLA...</td>\n",
       "      <td>[0, 0, 0, 0, 0, 0, 0, 0, 0, 0, 0, 0, 0, 1, 0, ...</td>\n",
       "    </tr>\n",
       "    <tr>\n",
       "      <th>40773</th>\n",
       "      <td>CCCCCCCOC1OC(CO)C(O)C(O)C1O</td>\n",
       "      <td>MKRVITLFAVLLMGWSVNAWSFACKTANGTAIPIGGGSANVYVNLA...</td>\n",
       "      <td>[0, 0, 0, 0, 0, 0, 0, 0, 0, 0, 0, 0, 0, 1, 0, ...</td>\n",
       "    </tr>\n",
       "  </tbody>\n",
       "</table>\n",
       "<p>40774 rows × 3 columns</p>\n",
       "</div>"
      ],
      "text/plain": [
       "                                                    Drug  \\\n",
       "0              Cc1ccc(CNS(=O)(=O)c2ccc(S(N)(=O)=O)s2)cc1   \n",
       "1             COc1ccc(CNS(=O)(=O)c2ccc(S(N)(=O)=O)s2)cc1   \n",
       "2                  NS(=O)(=O)c1ccc(S(=O)(=O)NCc2cccs2)s1   \n",
       "3           NS(=O)(=O)c1cc2c(s1)S(=O)(=O)N(Cc1cccs1)CC2O   \n",
       "4         CCN[C@H]1CN(CCOC)S(=O)(=O)c2sc(S(N)(=O)=O)cc21   \n",
       "...                                                  ...   \n",
       "40769  COc1cc(C(=O)O)ccc1NC(=O)[C@@H]1N[C@@H](CC(C)(C...   \n",
       "40770  CC(C)(C)C[C@@H]1N[C@@H](C(=O)N[C@H]2CC[C@H](O)...   \n",
       "40771  CC(C)[C@@H](CS(=O)(=O)C(C)C)N1C(=O)[C@@](C)(CC...   \n",
       "40772                        CCCCCCCOC1OC(CO)C(O)C(O)C1O   \n",
       "40773                        CCCCCCCOC1OC(CO)C(O)C(O)C1O   \n",
       "\n",
       "                                                  Target  \\\n",
       "0      MSHHWGYGKHNGPEHWHKDFPIAKGERQSPVDIDTHTAKYDPSLKP...   \n",
       "1      MSHHWGYGKHNGPEHWHKDFPIAKGERQSPVDIDTHTAKYDPSLKP...   \n",
       "2      MSHHWGYGKHNGPEHWHKDFPIAKGERQSPVDIDTHTAKYDPSLKP...   \n",
       "3      MSHHWGYGKHNGPEHWHKDFPIAKGERQSPVDIDTHTAKYDPSLKP...   \n",
       "4      MSHHWGYGKHNGPEHWHKDFPIAKGERQSPVDIDTHTAKYDPSLKP...   \n",
       "...                                                  ...   \n",
       "40769  MCNTNMSVPTDGAVTTSQIPASEQETLVRPKPLLLKLLKSVGAQKD...   \n",
       "40770  MCNTNMSVPTDGAVTTSQIPASEQETLVRPKPLLLKLLKSVGAQKD...   \n",
       "40771  MCNTNMSVPTDGAVTTSQIPASEQETLVRPKPLLLKLLKSVGAQKD...   \n",
       "40772  MKRVITLFAVLLMGWSVNAWSFACKTANGTAIPIGGGSANVYVNLA...   \n",
       "40773  MKRVITLFAVLLMGWSVNAWSFACKTANGTAIPIGGGSANVYVNLA...   \n",
       "\n",
       "                                             Drug_vector  \n",
       "0      [0, 0, 0, 0, 0, 0, 0, 0, 0, 0, 0, 0, 0, 0, 0, ...  \n",
       "1      [0, 0, 0, 0, 0, 0, 0, 0, 0, 0, 0, 0, 0, 0, 0, ...  \n",
       "2      [0, 0, 0, 0, 0, 0, 0, 0, 0, 0, 0, 0, 0, 0, 1, ...  \n",
       "3      [0, 0, 0, 0, 0, 0, 0, 0, 0, 0, 0, 0, 0, 0, 1, ...  \n",
       "4      [0, 0, 0, 0, 0, 0, 0, 0, 0, 0, 0, 0, 0, 1, 0, ...  \n",
       "...                                                  ...  \n",
       "40769  [0, 0, 0, 0, 0, 0, 0, 0, 0, 0, 0, 0, 0, 0, 0, ...  \n",
       "40770  [0, 0, 0, 0, 0, 0, 0, 0, 0, 1, 0, 0, 0, 0, 0, ...  \n",
       "40771  [0, 1, 0, 0, 0, 0, 0, 0, 0, 0, 0, 0, 0, 0, 0, ...  \n",
       "40772  [0, 0, 0, 0, 0, 0, 0, 0, 0, 0, 0, 0, 0, 1, 0, ...  \n",
       "40773  [0, 0, 0, 0, 0, 0, 0, 0, 0, 0, 0, 0, 0, 1, 0, ...  \n",
       "\n",
       "[40774 rows x 3 columns]"
      ]
     },
     "execution_count": 7,
     "metadata": {},
     "output_type": "execute_result"
    }
   ],
   "source": [
    "from rdkit.Chem import AllChem\n",
    "# use rdkit calculate ECFPs\n",
    "for ind, drug in enumerate(train_selected['Drug']):\n",
    "    mol = Chem.MolFromSmiles(drug)\n",
    "    Morgan_fp = AllChem.GetMorganFingerprintAsBitVect(mol, radius=2) #Explicitbitvects, which record whether or not a bit exists, are usually faster than SparseBitVects, but take up more memory, similar to fixed-length bit strings.\n",
    "    intmap = map(int, Morgan_fp.ToBitString())\n",
    "    train_selected['Drug_vector'][ind] = np.array(list(intmap))\n",
    "train_selected"
   ]
  },
  {
   "cell_type": "code",
   "execution_count": 8,
   "metadata": {},
   "outputs": [],
   "source": [
    "drug_vector = train_selected['Drug_vector']"
   ]
  },
  {
   "cell_type": "code",
   "execution_count": 9,
   "metadata": {},
   "outputs": [],
   "source": [
    "from torch.utils.data import DataLoader\n",
    "train_loader = DataLoader(dataset=drug_vector, shuffle=True, batch_size=256)\n",
    "sample = next(iter(train_loader))"
   ]
  },
  {
   "cell_type": "code",
   "execution_count": 10,
   "metadata": {},
   "outputs": [
    {
     "name": "stdout",
     "output_type": "stream",
     "text": [
      "Final clusters:  ward : \n",
      "[ 1  2  2 36  6 13 42 40  9  3 27  0 20 43  6 29 11  8 25  3  6  7 47  1\n",
      " 25 47  1 33  3  1 42  9 12 27  2 25 10  1 16 11 38  0 28 32 10 46 35 49\n",
      " 31 10  1 13 11  0 22 45 46 39  1 19 20 23 49  1 42 45  6 19  1 13 21 45\n",
      " 20  2 41 21  1 22  1 32  1  9  0  2  2 43 35  9 11 10  2  1  7  1 25 17\n",
      " 34  0  4 28  1  3  5 37 18 11  7 34 17  1  2 35 12  6 40 10 14  0  1  4\n",
      " 14 14 47  1  2 13 31  2  1 30 24 11 11  0 44  3  1 12 44 33  1 28  8  9\n",
      " 18 25 15 34 25 18 48  2 31 42 43 20 30  1 37  1 20 36 12 17  1 27 35 26\n",
      " 15 28 11 49 25 16  0  2  8 20 21 22  2  5 26  2  4 26 14  2  9 32  1  0\n",
      " 41  1 29  4 41 32  6  4  8 38 12 33  3 27  8 34 44 15 19  1  1 40  1 12\n",
      " 14 35  1 42  6 23 49 41 38 14 10  6 22 15  2 21 37  1 36  2  8  2 12  2\n",
      " 47 24  1  1  7 42  2  2 10  2 47 25 11 36 44 48]\n",
      "\n",
      "Final clusters:  average : \n",
      "[ 0  0 34  3  0 13  7  0  0 14  6 27  0  0  0 23  2 17 18 46  0  0  8  0\n",
      " 18  8  0  5 14  0  7  0 18  6  0 18 18  0 36  2  0  0  0 12  5  8 18  3\n",
      "  0 18  0 13  2 48  2 38  8 31  0  4  0  7  3 35  7 38  0  4 45 13 22 38\n",
      "  0  9 11 22  0  2 11 12  0  0  8  1  0  0 18  0  2 18  0  0  0  0 18 21\n",
      " 16 47 24  0  0  4 28  0  6  2  0 16 21 17 33 18 18  0  0  5 20  0  0 18\n",
      " 20 20  8  0  0 13  0 29  0 15 10  2  2 49 10 46  0 18 10  5  4  0 17 10\n",
      "  6 18  3 16 18  6  0 39  0  7  0  0 15  0  0  0  0  3 18 21  0  6 18 42\n",
      "  3  0  2  3 18 36 26  0 17  0 41  2  9 25 42  1 18 42 20 43 10 12 22 46\n",
      " 11  0 23 24 11 12 40 18 17  0 18  5  4  6 17 16 10  3  4  0  0  0  2 18\n",
      " 20 18  2  7  0  7  3 11  0 20  5  0  2  3  0 22  0  0  3  9 17  0 18 19\n",
      "  8 10 37  0  0  7 44 32 30  9  8 18  2  3 10  0]\n",
      "\n",
      "Final clusters:  complete : \n",
      "[ 3  3  0  8  1 23 10  3  4 36 13 46 20  3  7 41 40 15 17 26  1  3 37  4\n",
      " 17 37  3  1 36  6 10  4  5 13  3 17 17  4 22 40  3  4  3  4  8 21 17  8\n",
      "  3 17  3 23 40 17 40  5 21 31  4  2 16 11  8 35 10  5  1  2 38 23 24  5\n",
      " 16  7 12 24  4 40 12  4  4  4 37  7 18  3 17  4 40 17 18 34  3  3 17 14\n",
      " 42 39 48  3  4  2 47  3 13 40  3 42 14 18 33 17  5  1  3  8 34  4 20  5\n",
      " 34 34 37  6  3 23  3 27  4 30 19 40 40  5 19 26  4  5 19  1  2  3 15 19\n",
      " 13 17  6 42 17 13  9 25  3 10  3 16 30  4  3  3 16  8  5 14 20 13 17 12\n",
      "  6  3 40  8 17 22 49 18 15 16 28 40  7 43 12  1  5 12 34  0 19  4  4 26\n",
      " 12  4 41 48 12  4 32  5 15  3  5  1  2 13 15 42 19  6  2  4  6  3  9  5\n",
      " 34 17  9 10  1 11  8 12  3 34 11 34 40  6  3 24  3  4  8  7 15 18  5  1\n",
      " 37 19 45  3  3 10 16 29 44  7 37 17 40  8 19  9]\n",
      "\n",
      "Final clusters:  single : \n",
      "[ 0  0  0  0  0  0 15  0  0 10  8 29  0  0  0  7 22  3  0 20  0 26 46  0\n",
      "  0 46  0  0 10  0 15  0  0  8  0  0  0  0 13 22  0  0  0  0  0  9  0  0\n",
      "  0  0  0  0 22 28 22 38  9 31  0  4  0  5  0 27 15 38  0  4 35  0  1 38\n",
      "  0  0  0  1  0 22  0  0  0  0 47  0  0  0  0  0 22  0  0  0 26  0  0  2\n",
      " 21 39 18  0  0  6 48  0 16 22 24 21  2 36 37  0  0  0  0  0  0  0  0  0\n",
      "  0  0 46  0  0  0  0 33  0  0 11 22 22 41  0 20  0  0  0  0  4  0  3  0\n",
      " 16  0 44 21  0 16  0 25  0 15  0  0  0  0  0  0  0  0  0  2  0  8  0 12\n",
      " 44  0 22  0  0 13 17  0  3  0 49 22  0 32 12 30  0 12  0 14  0  0  0 23\n",
      "  0  0  7 18  0  0 43  0  3  0  0  0  6  8  3 21  0 44  4  0 42  0  0  0\n",
      "  0  0  0 15  0  5  0  0  0  0  0  0 22 44  0  1  0  0  0 40  3  0  0  0\n",
      " 46 11 34  0 24 15  0 19 45  0 46  0 22  0  0  0]\n",
      "\n"
     ]
    }
   ],
   "source": [
    "from sklearn.cluster import AgglomerativeClustering\n",
    "\n",
    "for linkage in ('ward', 'average','complete', 'single'):\n",
    "    clustering = AgglomerativeClustering(linkage=linkage, n_clusters=50)\n",
    "    clustering.fit(sample)\n",
    "    print(\"Final clusters: \", linkage, \": \")\n",
    "    print( clustering.labels_)\n",
    "    print()"
   ]
  },
  {
   "cell_type": "code",
   "execution_count": null,
   "metadata": {},
   "outputs": [],
   "source": []
  }
 ],
 "metadata": {
  "kernelspec": {
   "display_name": "Python 3",
   "language": "python",
   "name": "python3"
  },
  "language_info": {
   "codemirror_mode": {
    "name": "ipython",
    "version": 3
   },
   "file_extension": ".py",
   "mimetype": "text/x-python",
   "name": "python",
   "nbconvert_exporter": "python",
   "pygments_lexer": "ipython3",
   "version": "3.8.5"
  }
 },
 "nbformat": 4,
 "nbformat_minor": 4
}
